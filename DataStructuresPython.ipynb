{
 "cells": [
  {
   "cell_type": "markdown",
   "metadata": {},
   "source": [
    "<h1 style=\"text-shadow: 1px 0px 2px #4d4d4d; letter-spacing: 5px;\"><em>Data Structures & Algorithms -> Python.</em></h1>\n",
    "\n",
    "<h3 style=\"color:#262626; letter-spacing: 0.5px; word-spacing: 1px;\">\n",
    "    <font color = \"green\"><b><u>Data Structure</u></b></font> is a way of organizing data so that it can be used effectively.\n",
    "    <br>\n",
    "<br><font color = \"green\"><b><u>Algorithm</u></b></font> is set of instruction to process the data for a specific purpose.</h3>"
   ]
  },
  {
   "cell_type": "markdown",
   "metadata": {},
   "source": [
    "<h2 style=\"text-shadow: 0.5px 0px 1px #4d4d4d; letter-spacing: 1.5px; word-spacing: 1px;\"><b>Classification of Data Structures in Python:</b></h2>\n",
    "<h3 style=\"line-height: 2; color:#262626; letter-spacing: 1px; word-spacing: 1px;\"> <i>1. <font color = \"green\">Linear</font> Data Structures.\n",
    "<br>2. <font color = \"green\">Non-Linear</font> Data Structures.\n",
    "<br>3. <font color = \"green\">Python Specific</font> Data Structures.</i> </h3>"
   ]
  },
  {
   "cell_type": "markdown",
   "metadata": {},
   "source": [
    "<h2 style=\"text-shadow: 0.5px 0px 1px #4d4d4d; letter-spacing: 1.5px; word-spacing: 1px;\"><b>Linear Data Structures:-</b></h2>\n",
    "<h3 style=\"line-height: 1.5; color:#262626; letter-spacing: 0.75px; word-spacing: 1px;\">These are the data structures which store the data elements in a <font style=\"color:red\"><u>Sequential manner.</u></font>\n",
    "<br>Some of the Linear data structures are:\n",
    "<br><i style=\"line-height: 2;\">(i) <font style=\"color:red\">Array.</font>\n",
    "<br>(ii) <font style=\"color:red\">Linked List.</font>\n",
    "<br>(iii) <font style=\"color:red\">Stack.</font>\n",
    "<br>(iv) <font style=\"color:red\">Queue.</font>\n",
    "<br>(v) <font style=\"color:red\">Matrix.</font></i></h3>"
   ]
  },
  {
   "cell_type": "markdown",
   "metadata": {},
   "source": [
    "<h2 style=\"text-shadow: 0.5px 0px 1px #4d4d4d; letter-spacing: 1.5px; word-spacing: 1px;\"><b>Non Linear Data Structures:-</b></h2>\n",
    "<h3 style=\"line-height: 1.5; color:#262626; letter-spacing: 0.75px; word-spacing: 1px;\">These are the data structures in which there is <u><font style=\"color:#000080\">no sequential linking</font></u> of data elements.\n",
    "<br>Some of the Non Linear data structures are:\n",
    "<br><i style=\"line-height: 2\">(i)<font style=\"color:#000080\"> Binary Tree.</font>\n",
    "<br>(ii)<font style=\"color:#000080\"> Heap.</font>\n",
    "<br>(iii)<font style=\"color:#000080\"> Hash table.</font>\n",
    "<br>(iv)<font style=\"color:#000080\"> Graph.</font></i></h3>"
   ]
  },
  {
   "cell_type": "markdown",
   "metadata": {},
   "source": [
    "<h2 style=\"text-shadow: 0.5px 0px 1px #4d4d4d; letter-spacing: 1.5px; word-spacing: 1px;\"><b>Python Specific Data Structures:-</b></h2>\n",
    "<h3 style=\"line-height: 1.5; color:#262626; letter-spacing: 0.75px; word-spacing: 1px;\">These data structures are <u><font style=\"color:#800080\">specific to python language</font></u> and they give greater flexibility in storing different types of data and faster processing in python environment.\n",
    "<br>Some of the Python Specific data structures are:\n",
    "<br><i style=\"line-height: 2\">(i)<font style=\"color:#800080\"> List.</font>\n",
    "<br>(ii)<font style=\"color:#800080\"> Tuple.</font>\n",
    "<br>(iii)<font style=\"color:#800080\"> Dictionary.</font>\n",
    "<br>(iv)<font style=\"color:#800080\"> Sets.</font></i></h3>"
   ]
  },
  {
   "cell_type": "markdown",
   "metadata": {},
   "source": [
    "<h1 style=\"text-shadow: 0.5px 0px 1px #4d4d4d; letter-spacing: 1.5px; word-spacing: 1px;\"><b>Arrays:-</b></h1>"
   ]
  },
  {
   "cell_type": "markdown",
   "metadata": {},
   "source": [
    "<h3 style=\"line-height: 1.5; color:#262626; letter-spacing: 0.75px; word-spacing: 1px;\">Array is a container used to hold a fixed number of elements of same type\n",
    "    <br><b style=\"color: green\">Element:</b> Each item stored in an array is called an element.\n",
    "<br><b style=\"color: green\">Index:</b> Each location of an element in an array has a numerical index, which is used to identify the element.</h3>\n",
    "<h4 style=\"line-height: 1.25; color:SteelBlue; letter-spacing: 0.75px; word-spacing: 1px;\">Note: Python has no direct method to declare arrays but they can be called from various libraries such as the \"Array\" library, \"Numpy\" library etc..,</h4>"
   ]
  },
  {
   "cell_type": "markdown",
   "metadata": {},
   "source": [
    "<h2 style=\"text-shadow: 0.5px 0px 1.2px #4d4d4d; letter-spacing: 1.5px; word-spacing: 1px;\">Using Array Module:-</h2>"
   ]
  },
  {
   "cell_type": "code",
   "execution_count": 1,
   "metadata": {},
   "outputs": [],
   "source": [
    "import array as arr ##<- Importing the Array Module ->##"
   ]
  },
  {
   "cell_type": "code",
   "execution_count": 2,
   "metadata": {},
   "outputs": [],
   "source": [
    "a = arr.array('i',[1,2,3,4,5]) ##<- Declaring an integer Array ->##"
   ]
  },
  {
   "cell_type": "code",
   "execution_count": 3,
   "metadata": {},
   "outputs": [
    {
     "name": "stdout",
     "output_type": "stream",
     "text": [
      "<class 'array.array'>\n",
      "Elements in 'a' are:-\n",
      "1\n",
      "2\n",
      "3\n",
      "4\n",
      "5\n"
     ]
    }
   ],
   "source": [
    "print(type(a))\n",
    "print(\"Elements in 'a' are:-\")\n",
    "for i in a:\n",
    "    print(i)"
   ]
  },
  {
   "cell_type": "markdown",
   "metadata": {},
   "source": [
    "<h3 style=\"text-shadow: 0.5px 0px 1.2px #4d4d4d; letter-spacing: 1.5px; word-spacing: 1px;\"> In Python the Index of the First element starts from Zero </h3>"
   ]
  },
  {
   "cell_type": "code",
   "execution_count": 4,
   "metadata": {},
   "outputs": [
    {
     "name": "stdout",
     "output_type": "stream",
     "text": [
      "the first element is 1\n",
      "the third element is 3\n"
     ]
    }
   ],
   "source": [
    "print(\"the first element is\", a[0])\n",
    "print(\"the third element is\", a[2])"
   ]
  },
  {
   "cell_type": "code",
   "execution_count": 5,
   "metadata": {},
   "outputs": [],
   "source": [
    "b = arr.array('f',[1.43, 3.545, 5.54, 7.32, 8.88]) ##<- Declaring an Float Array ->##"
   ]
  },
  {
   "cell_type": "markdown",
   "metadata": {},
   "source": [
    "<h3 style=\"text-shadow: 0.5px 0px 1.2px #4d4d4d; letter-spacing: 1.5px; word-spacing: 1px;\">Slicing Operation:</h3>"
   ]
  },
  {
   "cell_type": "code",
   "execution_count": 6,
   "metadata": {},
   "outputs": [
    {
     "name": "stdout",
     "output_type": "stream",
     "text": [
      "array('i', [2, 3, 4])\n",
      "array('i', [1, 2, 3, 4, 5])\n"
     ]
    }
   ],
   "source": [
    "##<- Slicing operation is used to part an array and make it an individual Array without affecting the original one ->##\n",
    "\n",
    "c = a[1:4]\n",
    "\n",
    "print(c) ##<- C is created from A without Affecting it ->##\n",
    "print(a)"
   ]
  },
  {
   "cell_type": "markdown",
   "metadata": {},
   "source": [
    "<h3 style=\"text-shadow: 0.5px 0px 1.2px #4d4d4d; letter-spacing: 1.5px; word-spacing: 1px;\">Element Updation:</h3>"
   ]
  },
  {
   "cell_type": "code",
   "execution_count": 7,
   "metadata": {},
   "outputs": [
    {
     "name": "stdout",
     "output_type": "stream",
     "text": [
      "array('i', [1, 2, 3, 4, 5])\n",
      "array('i', [100, 2, 3, 4, 5])\n"
     ]
    }
   ],
   "source": [
    "##<- The elements in the Array can be easily be replaced or updated by simply reassigning a new value at the respective index ->##\n",
    "print(a)\n",
    "a[0] = 100\n",
    "print(a)"
   ]
  },
  {
   "cell_type": "markdown",
   "metadata": {},
   "source": [
    "<h3 style=\"text-shadow: 0.5px 0px 1.2px #4d4d4d; letter-spacing: 1.5px; word-spacing: 1px;\">Element Insertion:</h3>"
   ]
  },
  {
   "cell_type": "code",
   "execution_count": 8,
   "metadata": {},
   "outputs": [
    {
     "name": "stdout",
     "output_type": "stream",
     "text": [
      "array('i', [100, 2, 3, 4, 5])\n",
      "array('i', [100, 2, 3, 4, 500, 5])\n"
     ]
    }
   ],
   "source": [
    "##<- New elements can be added to the existing Arrays by Insert method ->##\n",
    "print(a)\n",
    "a.insert(4,500)\n",
    "print(a)"
   ]
  },
  {
   "cell_type": "markdown",
   "metadata": {},
   "source": [
    "<h3 style=\"text-shadow: 0.5px 0px 1.2px #4d4d4d; letter-spacing: 1.5px; word-spacing: 1px;\">Element Deletion:</h3>"
   ]
  },
  {
   "cell_type": "code",
   "execution_count": 9,
   "metadata": {},
   "outputs": [
    {
     "name": "stdout",
     "output_type": "stream",
     "text": [
      "array('i', [100, 2, 3, 4, 500, 5])\n",
      "array('i', [100, 3, 4, 500, 5])\n"
     ]
    }
   ],
   "source": [
    "##<- Elements Deletion is some what same like Element instertion ->##\n",
    "print(a)\n",
    "a.remove(2) ##<- Specify the element the needs to be deleted ->##\n",
    "print(a)"
   ]
  },
  {
   "cell_type": "code",
   "execution_count": 10,
   "metadata": {},
   "outputs": [],
   "source": [
    "d = arr.array('i',[1,2,2,3,3,3,4,4,4,4]) ##<- What happens to arrays with multiple same elements ->##"
   ]
  },
  {
   "cell_type": "code",
   "execution_count": 11,
   "metadata": {},
   "outputs": [
    {
     "name": "stdout",
     "output_type": "stream",
     "text": [
      "array('i', [1, 2, 2, 3, 3, 3, 4, 4, 4, 4])\n",
      "array('i', [1, 2, 3, 3, 3, 4, 4, 4, 4])\n"
     ]
    }
   ],
   "source": [
    "print(d)\n",
    "d.remove(2) ##<- Every time the method is called it removes only one element from the Array ->##\n",
    "print(d)"
   ]
  },
  {
   "cell_type": "code",
   "execution_count": 12,
   "metadata": {},
   "outputs": [
    {
     "name": "stdout",
     "output_type": "stream",
     "text": [
      "array('i', [1, 2, 3, 3, 4, 4, 4, 4])\n"
     ]
    }
   ],
   "source": [
    "d.remove(3)\n",
    "print(d)"
   ]
  },
  {
   "cell_type": "markdown",
   "metadata": {},
   "source": [
    "<h3 style=\"text-shadow: 0.5px 0px 1.2px #4d4d4d; letter-spacing: 1.5px; word-spacing: 1px;\">Element Search:</h3>"
   ]
  },
  {
   "cell_type": "code",
   "execution_count": 13,
   "metadata": {},
   "outputs": [
    {
     "name": "stdout",
     "output_type": "stream",
     "text": [
      "array('i', [100, 3, 4, 500, 5])\n",
      "3\n"
     ]
    }
   ],
   "source": [
    "##<- Element Search is used to return the index value of the element ->##\n",
    "print(a)\n",
    "print(a.index(500))"
   ]
  },
  {
   "cell_type": "markdown",
   "metadata": {},
   "source": [
    "<h4 style=\"line-height: 1.25; color:SteelBlue; letter-spacing: 0.75px; word-spacing: 1px;\">Note: The application of this Array module are limited, they mostly used for efficient storage purposes. More complex numeric fuction are done easiy via Numpy module</h4>"
   ]
  },
  {
   "cell_type": "code",
   "execution_count": 14,
   "metadata": {},
   "outputs": [],
   "source": [
    "import numpy as np"
   ]
  },
  {
   "cell_type": "code",
   "execution_count": 15,
   "metadata": {},
   "outputs": [],
   "source": [
    "a = np.array([1,2,3,4,5,6])"
   ]
  },
  {
   "cell_type": "code",
   "execution_count": 16,
   "metadata": {},
   "outputs": [
    {
     "name": "stdout",
     "output_type": "stream",
     "text": [
      "[1 2 3 4 5 6]\n",
      "<class 'numpy.ndarray'>\n"
     ]
    }
   ],
   "source": [
    "print(a)\n",
    "print(type(a))"
   ]
  },
  {
   "cell_type": "markdown",
   "metadata": {},
   "source": [
    "<h3 style=\"text-shadow: 0.5px 0px 1.2px #4d4d4d; letter-spacing: 1.5px; word-spacing: 1px;\">We can even create Float Arrays and Complex numbers Arrays with ease</h3>"
   ]
  },
  {
   "cell_type": "code",
   "execution_count": 17,
   "metadata": {},
   "outputs": [
    {
     "name": "stdout",
     "output_type": "stream",
     "text": [
      "[1.5   2.64  3.498 5.545 4.   ]\n",
      "<class 'numpy.ndarray'>\n",
      "[1.+0.j 2.+0.j 3.+0.j 4.+0.j 5.+0.j 6.+0.j]\n",
      "<class 'numpy.ndarray'>\n"
     ]
    }
   ],
   "source": [
    "b = np.array([1.5,2.64,3.498,5.545,4])\n",
    "print(b)\n",
    "print(type(b))\n",
    "c = np.array([1,2,3,4,5,6], dtype = complex)\n",
    "print(c)\n",
    "print(type(c))"
   ]
  },
  {
   "cell_type": "markdown",
   "metadata": {},
   "source": [
    "<h3 style=\"text-shadow: 0.5px 0px 1.2px #4d4d4d; letter-spacing: 1.5px; word-spacing: 1px;\">Multi-Dimensional Arrays:</h3>"
   ]
  },
  {
   "cell_type": "code",
   "execution_count": 18,
   "metadata": {},
   "outputs": [
    {
     "name": "stdout",
     "output_type": "stream",
     "text": [
      "[[1 2 3]\n",
      " [4 5 6]\n",
      " [7 8 9]]\n"
     ]
    }
   ],
   "source": [
    "##<- Multi-dimensional Arrays can declared same as declaring an one dimensional Array in Regular method ->##\n",
    "d = np.array([[1,2,3],[4,5,6],[7,8,9]])\n",
    "print(d)"
   ]
  },
  {
   "cell_type": "markdown",
   "metadata": {},
   "source": [
    "<h3 style=\"text-shadow: 0.5px 0px 1.2px #4d4d4d; letter-spacing: 1.5px; word-spacing: 1px;\">Shape method:</h3>"
   ]
  },
  {
   "cell_type": "code",
   "execution_count": 19,
   "metadata": {},
   "outputs": [
    {
     "name": "stdout",
     "output_type": "stream",
     "text": [
      "(6,)\n",
      "(3, 3)\n"
     ]
    }
   ],
   "source": [
    "##<- Shape method returns the dimensions of an array ->##\n",
    "print(a.shape)\n",
    "print(d.shape)"
   ]
  },
  {
   "cell_type": "markdown",
   "metadata": {},
   "source": [
    "<h3 style=\"text-shadow: 0.5px 0px 1.2px #4d4d4d; letter-spacing: 1.5px; word-spacing: 1px;\">Numpy Library has various built-in functions that are helpful in Numerical computation</h3>"
   ]
  },
  {
   "cell_type": "code",
   "execution_count": 20,
   "metadata": {},
   "outputs": [
    {
     "name": "stdout",
     "output_type": "stream",
     "text": [
      "[[[1. 1.]\n",
      "  [1. 1.]\n",
      "  [1. 1.]]\n",
      "\n",
      " [[1. 1.]\n",
      "  [1. 1.]\n",
      "  [1. 1.]]\n",
      "\n",
      " [[1. 1.]\n",
      "  [1. 1.]\n",
      "  [1. 1.]]\n",
      "\n",
      " [[1. 1.]\n",
      "  [1. 1.]\n",
      "  [1. 1.]]]\n",
      "(4, 3, 2)\n"
     ]
    }
   ],
   "source": [
    "##<- For example we can create N-dimensional Array full of ones and zeros by ->##\n",
    "e = np.ones((4,3,2)) ##<- Just declaring the Dimension of the Array we need ->##\n",
    "print(e)\n",
    "print(e.shape)"
   ]
  },
  {
   "cell_type": "code",
   "execution_count": 21,
   "metadata": {},
   "outputs": [
    {
     "name": "stdout",
     "output_type": "stream",
     "text": [
      "[[[0. 0. 0.]\n",
      "  [0. 0. 0.]\n",
      "  [0. 0. 0.]\n",
      "  [0. 0. 0.]]\n",
      "\n",
      " [[0. 0. 0.]\n",
      "  [0. 0. 0.]\n",
      "  [0. 0. 0.]\n",
      "  [0. 0. 0.]]\n",
      "\n",
      " [[0. 0. 0.]\n",
      "  [0. 0. 0.]\n",
      "  [0. 0. 0.]\n",
      "  [0. 0. 0.]]\n",
      "\n",
      " [[0. 0. 0.]\n",
      "  [0. 0. 0.]\n",
      "  [0. 0. 0.]\n",
      "  [0. 0. 0.]]\n",
      "\n",
      " [[0. 0. 0.]\n",
      "  [0. 0. 0.]\n",
      "  [0. 0. 0.]\n",
      "  [0. 0. 0.]]]\n",
      "(5, 4, 3)\n"
     ]
    }
   ],
   "source": [
    "f = np.zeros((5,4,3))\n",
    "print(f)\n",
    "print(f.shape)"
   ]
  },
  {
   "cell_type": "markdown",
   "metadata": {},
   "source": [
    "<h3 style=\"line-height: 1.5; text-shadow: 0.5px 0px 1.2px #4d4d4d; letter-spacing: 1.5px; word-spacing: 1px;\">Numpy Library has various built-in functions for Matrix Addition, Multiplication, Inverse, Transverse etc., and much more other operations\n",
    "<br>check it @\n",
    "<br><a href=\"https://numpy.org/doc/stable/\" target=\"_blank\">Numpy Official Documentation</a></h3>"
   ]
  },
  {
   "cell_type": "markdown",
   "metadata": {},
   "source": [
    "<h1 style=\"text-shadow: 0.5px 0px 1px #4d4d4d; letter-spacing: 1.5px; word-spacing: 1px;\"><b>Lists</b></h1>"
   ]
  },
  {
   "cell_type": "markdown",
   "metadata": {},
   "source": [
    "<h3 style=\"line-height: 1.5; color:#262626; letter-spacing: 0.75px; word-spacing: 1px;\">List are Python Built-ins and can be Declared by <b style=\"color: green\">enclosing elements separated by commas inside a Square brackets</b></h3>"
   ]
  },
  {
   "cell_type": "code",
   "execution_count": 22,
   "metadata": {},
   "outputs": [
    {
     "name": "stdout",
     "output_type": "stream",
     "text": [
      "[1, 2, 3, 4, 5, 6, 7]\n",
      "<class 'list'>\n"
     ]
    }
   ],
   "source": [
    "list1 = [1,2,3,4,5,6,7]\n",
    "print(list1)\n",
    "print(type(list1))"
   ]
  },
  {
   "cell_type": "code",
   "execution_count": 23,
   "metadata": {},
   "outputs": [
    {
     "name": "stdout",
     "output_type": "stream",
     "text": [
      "['a', 'b', 'c', 'd', 'e']\n",
      "<class 'list'>\n"
     ]
    }
   ],
   "source": [
    "list2 = ['a','b','c','d','e']\n",
    "print(list2)\n",
    "print(type(list2))"
   ]
  },
  {
   "cell_type": "code",
   "execution_count": 24,
   "metadata": {},
   "outputs": [
    {
     "name": "stdout",
     "output_type": "stream",
     "text": [
      "[1.4, 4.55, 6.6, 7, 8, 9.9]\n",
      "<class 'list'>\n"
     ]
    }
   ],
   "source": [
    "list3 = [1.4,4.55,6.6,7,8,9.9]\n",
    "print(list3)\n",
    "print(type(list3))"
   ]
  },
  {
   "cell_type": "markdown",
   "metadata": {},
   "source": [
    "<h3 style=\"text-shadow: 0.5px 0px 1.2px #4d4d4d; letter-spacing: 1.5px; word-spacing: 1px;\">Lists are the most flexible, data structures with which we can do a number of operations</h3>"
   ]
  },
  {
   "cell_type": "code",
   "execution_count": 25,
   "metadata": {},
   "outputs": [
    {
     "name": "stdout",
     "output_type": "stream",
     "text": [
      "Total number of elemnets in the list is :  7\n",
      "First element is : a\n",
      "['a', 'b', 'c', 'd', 'e', 1.4, 4.55, 6.6, 7, 8, 9.9]\n",
      "True\n",
      "[1.4, 4.55, 6.6, 7, 8, 9.9, 200]\n",
      "['a', 'b', 'c', 'd', 'e']\n",
      "['a', 'b', 'd', 'e']\n",
      "['b', 'd', 'e']\n"
     ]
    }
   ],
   "source": [
    "##<- Getting the number of elements ->##\n",
    "print(\"Total number of elemnets in the list is : \",len(list1))\n",
    "##<- Accessing the elements ->##\n",
    "print(\"First element is :\", list2[0])\n",
    "##<- Concatenate elements of diferent list into a single one ->##\n",
    "print(list2+list3)\n",
    "##<- Checking if the element is in the list ->##\n",
    "print('b' in list2)\n",
    "##<- Inserting elements ->##\n",
    "list3.append(200)\n",
    "print(list3)\n",
    "##<- Deleting elements ->##\n",
    "print(list2)\n",
    "list2.pop(2)\n",
    "print(list2)\n",
    "del list2[0]\n",
    "print(list2)"
   ]
  },
  {
   "cell_type": "markdown",
   "metadata": {},
   "source": [
    "<h1 style=\"text-shadow: 0.5px 0px 1px #4d4d4d; letter-spacing: 1.5px; word-spacing: 1px;\"><b>Tuples</b></h1>"
   ]
  },
  {
   "cell_type": "markdown",
   "metadata": {},
   "source": [
    "<h3 style=\"line-height: 1.5; color:#262626; letter-spacing: 0.75px; word-spacing: 1px;\">Tuples are also Python Built-ins like list and also behave like a list but tuples are <b style=\"color: green\">immutable</b>(meaning: Once they are delcared they cannot be modified) and can be Declared by <b style=\"color: green\">enclosing elements separated by commas inside a Parantheses</b></h3>"
   ]
  },
  {
   "cell_type": "code",
   "execution_count": 26,
   "metadata": {},
   "outputs": [
    {
     "name": "stdout",
     "output_type": "stream",
     "text": [
      "(1, 2, 3, 4, 5, 6)\n",
      "<class 'tuple'>\n"
     ]
    }
   ],
   "source": [
    "tup1 = (1,2,3,4,5,6)\n",
    "print(tup1)\n",
    "print(type(tup1))"
   ]
  },
  {
   "cell_type": "code",
   "execution_count": 27,
   "metadata": {},
   "outputs": [
    {
     "name": "stdout",
     "output_type": "stream",
     "text": [
      "('a', 'b', 'c', 'd', 'e')\n",
      "<class 'tuple'>\n"
     ]
    }
   ],
   "source": [
    "tup2 = ('a','b','c','d','e')\n",
    "print(tup2)\n",
    "print(type(tup2))"
   ]
  },
  {
   "cell_type": "code",
   "execution_count": 28,
   "metadata": {},
   "outputs": [
    {
     "name": "stdout",
     "output_type": "stream",
     "text": [
      "(1.35, 2.5115, 3, 4, 5.515, 6.69)\n",
      "<class 'tuple'>\n"
     ]
    }
   ],
   "source": [
    "tup3 = (1.35,2.5115,3,4,5.515,6.69)\n",
    "print(tup3)\n",
    "print(type(tup3))"
   ]
  },
  {
   "cell_type": "markdown",
   "metadata": {},
   "source": [
    "<h3 style=\"text-shadow: 0.5px 0px 1.2px #4d4d4d; letter-spacing: 1.5px; word-spacing: 1px;\">Some Basic operations performed on tuples</h3>"
   ]
  },
  {
   "cell_type": "code",
   "execution_count": 29,
   "metadata": {},
   "outputs": [
    {
     "name": "stdout",
     "output_type": "stream",
     "text": [
      "Total number of elemnets in the tuple is :  6\n",
      "First element is : a\n",
      "('a', 'b', 'c', 'd', 'e', 1.35, 2.5115, 3, 4, 5.515, 6.69)\n",
      "False\n"
     ]
    }
   ],
   "source": [
    "##<- Getting the number of elements ->##\n",
    "print(\"Total number of elemnets in the tuple is : \",len(tup1))\n",
    "##<- Accessing the elements ->##\n",
    "print(\"First element is :\", tup2[0])\n",
    "##<- Concatenate elements of diferent tuples into a single one ->##\n",
    "print(tup2+tup3)\n",
    "##<- Checking if the element is in the tuples ->##\n",
    "print('b' in tup3)"
   ]
  },
  {
   "cell_type": "markdown",
   "metadata": {},
   "source": [
    "<h3 style=\"text-shadow: 0.5px 0px 1.2px #4d4d4d; letter-spacing: 1.5px; word-spacing: 1px;\">Operations that throws an <b style=\"color: red\">Error!!!</b> on tuples</h3>"
   ]
  },
  {
   "cell_type": "code",
   "execution_count": 30,
   "metadata": {},
   "outputs": [
    {
     "name": "stdout",
     "output_type": "stream",
     "text": [
      "(1, 2, 3, 4, 5, 6)\n"
     ]
    },
    {
     "ename": "AttributeError",
     "evalue": "'tuple' object has no attribute 'append'",
     "output_type": "error",
     "traceback": [
      "\u001b[1;31m---------------------------------------------------------------------------\u001b[0m",
      "\u001b[1;31mAttributeError\u001b[0m                            Traceback (most recent call last)",
      "\u001b[1;32m<ipython-input-30-953acb9b1f4c>\u001b[0m in \u001b[0;36m<module>\u001b[1;34m\u001b[0m\n\u001b[0;32m      1\u001b[0m \u001b[1;31m##<- When tried to add new elements ->##\u001b[0m\u001b[1;33m\u001b[0m\u001b[1;33m\u001b[0m\u001b[1;33m\u001b[0m\u001b[0m\n\u001b[0;32m      2\u001b[0m \u001b[0mprint\u001b[0m\u001b[1;33m(\u001b[0m\u001b[0mtup1\u001b[0m\u001b[1;33m)\u001b[0m\u001b[1;33m\u001b[0m\u001b[1;33m\u001b[0m\u001b[0m\n\u001b[1;32m----> 3\u001b[1;33m \u001b[0mtup1\u001b[0m\u001b[1;33m.\u001b[0m\u001b[0mappend\u001b[0m\u001b[1;33m(\u001b[0m\u001b[1;36m88\u001b[0m\u001b[1;33m)\u001b[0m\u001b[1;33m\u001b[0m\u001b[1;33m\u001b[0m\u001b[0m\n\u001b[0m",
      "\u001b[1;31mAttributeError\u001b[0m: 'tuple' object has no attribute 'append'"
     ]
    }
   ],
   "source": [
    "##<- When tried to add new elements ->##\n",
    "print(tup1)\n",
    "tup1.append(88)"
   ]
  },
  {
   "cell_type": "code",
   "execution_count": 31,
   "metadata": {},
   "outputs": [
    {
     "name": "stdout",
     "output_type": "stream",
     "text": [
      "(1, 2, 3, 4, 5, 6)\n"
     ]
    },
    {
     "ename": "AttributeError",
     "evalue": "'tuple' object has no attribute 'pop'",
     "output_type": "error",
     "traceback": [
      "\u001b[1;31m---------------------------------------------------------------------------\u001b[0m",
      "\u001b[1;31mAttributeError\u001b[0m                            Traceback (most recent call last)",
      "\u001b[1;32m<ipython-input-31-27ec7b170958>\u001b[0m in \u001b[0;36m<module>\u001b[1;34m\u001b[0m\n\u001b[0;32m      1\u001b[0m \u001b[1;31m##<- When tried to delete elements ->##\u001b[0m\u001b[1;33m\u001b[0m\u001b[1;33m\u001b[0m\u001b[1;33m\u001b[0m\u001b[0m\n\u001b[0;32m      2\u001b[0m \u001b[0mprint\u001b[0m\u001b[1;33m(\u001b[0m\u001b[0mtup1\u001b[0m\u001b[1;33m)\u001b[0m\u001b[1;33m\u001b[0m\u001b[1;33m\u001b[0m\u001b[0m\n\u001b[1;32m----> 3\u001b[1;33m \u001b[0mtup1\u001b[0m\u001b[1;33m.\u001b[0m\u001b[0mpop\u001b[0m\u001b[1;33m(\u001b[0m\u001b[1;36m5\u001b[0m\u001b[1;33m)\u001b[0m\u001b[1;33m\u001b[0m\u001b[1;33m\u001b[0m\u001b[0m\n\u001b[0m",
      "\u001b[1;31mAttributeError\u001b[0m: 'tuple' object has no attribute 'pop'"
     ]
    }
   ],
   "source": [
    "##<- When tried to delete elements ->##\n",
    "print(tup1)\n",
    "tup1.pop(5)"
   ]
  },
  {
   "cell_type": "code",
   "execution_count": 32,
   "metadata": {},
   "outputs": [
    {
     "name": "stdout",
     "output_type": "stream",
     "text": [
      "(1, 2, 3, 4, 5, 6)\n"
     ]
    },
    {
     "ename": "TypeError",
     "evalue": "'tuple' object does not support item assignment",
     "output_type": "error",
     "traceback": [
      "\u001b[1;31m---------------------------------------------------------------------------\u001b[0m",
      "\u001b[1;31mTypeError\u001b[0m                                 Traceback (most recent call last)",
      "\u001b[1;32m<ipython-input-32-e02a156d6f24>\u001b[0m in \u001b[0;36m<module>\u001b[1;34m\u001b[0m\n\u001b[0;32m      1\u001b[0m \u001b[1;31m##<- When tried to replace elements ->##\u001b[0m\u001b[1;33m\u001b[0m\u001b[1;33m\u001b[0m\u001b[1;33m\u001b[0m\u001b[0m\n\u001b[0;32m      2\u001b[0m \u001b[0mprint\u001b[0m\u001b[1;33m(\u001b[0m\u001b[0mtup1\u001b[0m\u001b[1;33m)\u001b[0m\u001b[1;33m\u001b[0m\u001b[1;33m\u001b[0m\u001b[0m\n\u001b[1;32m----> 3\u001b[1;33m \u001b[0mtup1\u001b[0m\u001b[1;33m[\u001b[0m\u001b[1;36m1\u001b[0m\u001b[1;33m]\u001b[0m \u001b[1;33m=\u001b[0m \u001b[1;36m141\u001b[0m\u001b[1;33m\u001b[0m\u001b[1;33m\u001b[0m\u001b[0m\n\u001b[0m",
      "\u001b[1;31mTypeError\u001b[0m: 'tuple' object does not support item assignment"
     ]
    }
   ],
   "source": [
    "##<- When tried to replace elements ->##\n",
    "print(tup1)\n",
    "tup1[1] = 141"
   ]
  },
  {
   "cell_type": "markdown",
   "metadata": {},
   "source": [
    "<h1 style=\"text-shadow: 0.5px 0px 1px #4d4d4d; letter-spacing: 1.5px; word-spacing: 1px;\"><b>Dictionary</b></h1>"
   ]
  },
  {
   "cell_type": "markdown",
   "metadata": {},
   "source": [
    "<h3 style=\"line-height: 1.5; color:#262626; letter-spacing: 0.75px; word-spacing: 1px;\" >Dictionaries are also Python Built-ins data-type, Dictionary is an unordered collection of items. Each item of a dictionary has a key/value pair. Dictionaries are optimized to retrieve values when the key is known. Dictionaries can be Declared by <b style=\"color: green\">placing items inside curly braces {} separated by commas</b>, the item has a key and a corresponding value that is expressed as a pair <b style=\"color: green\">(key: value)</b>.</h3>"
   ]
  },
  {
   "cell_type": "code",
   "execution_count": 33,
   "metadata": {},
   "outputs": [],
   "source": [
    "##<- Declaring Dictionary ->##\n",
    "dict_movies = {'IronMan': 2008, 'Avatar': 2009, 'Avengers': 2011, 'Titanic': 1997, 'DarkKnight': 2012}"
   ]
  },
  {
   "cell_type": "code",
   "execution_count": 34,
   "metadata": {},
   "outputs": [
    {
     "name": "stdout",
     "output_type": "stream",
     "text": [
      "{'IronMan': 2008, 'Avatar': 2009, 'Avengers': 2011, 'Titanic': 1997, 'DarkKnight': 2012}\n",
      "<class 'dict'>\n"
     ]
    }
   ],
   "source": [
    "print(dict_movies)\n",
    "print(type(dict_movies))"
   ]
  },
  {
   "cell_type": "code",
   "execution_count": 35,
   "metadata": {},
   "outputs": [
    {
     "data": {
      "text/plain": [
       "2009"
      ]
     },
     "execution_count": 35,
     "metadata": {},
     "output_type": "execute_result"
    }
   ],
   "source": [
    "##<- Accessing Dictionary values using Keys ->##\n",
    "dict_movies['Avatar']"
   ]
  },
  {
   "cell_type": "code",
   "execution_count": 36,
   "metadata": {},
   "outputs": [
    {
     "name": "stdout",
     "output_type": "stream",
     "text": [
      "{'IronMan': 2008, 'Avatar': 2009, 'Avengers': 2012, 'Titanic': 1997, 'DarkKnight': 2012}\n"
     ]
    }
   ],
   "source": [
    "##<- Change Existing Dictionary values using Keys ->##\n",
    "dict_movies['Avengers'] = 2012\n",
    "print(dict_movies)"
   ]
  },
  {
   "cell_type": "code",
   "execution_count": 37,
   "metadata": {},
   "outputs": [
    {
     "name": "stdout",
     "output_type": "stream",
     "text": [
      "{'IronMan': 2008, 'Avatar': 2009, 'Avengers': 2012, 'Titanic': 1997, 'DarkKnight': 2012, 'Endgame': 2019}\n"
     ]
    }
   ],
   "source": [
    "##<- Adding new Dictionary values using Keys ->##\n",
    "dict_movies['Endgame'] = 2019\n",
    "print(dict_movies)"
   ]
  },
  {
   "cell_type": "code",
   "execution_count": 38,
   "metadata": {},
   "outputs": [
    {
     "data": {
      "text/plain": [
       "[('Titanic', 1997),\n",
       " ('IronMan', 2008),\n",
       " ('Avatar', 2009),\n",
       " ('Avengers', 2012),\n",
       " ('DarkKnight', 2012),\n",
       " ('Endgame', 2019)]"
      ]
     },
     "execution_count": 38,
     "metadata": {},
     "output_type": "execute_result"
    }
   ],
   "source": [
    "##<- Sorting Dictionary values using values ->##\n",
    "\n",
    "sorted(dict_movies.items(), key=lambda x: x[1])"
   ]
  },
  {
   "cell_type": "code",
   "execution_count": 39,
   "metadata": {},
   "outputs": [
    {
     "name": "stdout",
     "output_type": "stream",
     "text": [
      "{'IronMan': 2008, 'Avatar': 2009, 'Avengers': 2012, 'Titanic': 1997, 'DarkKnight': 2012}\n",
      "{}\n"
     ]
    },
    {
     "ename": "NameError",
     "evalue": "name 'dict_movies' is not defined",
     "output_type": "error",
     "traceback": [
      "\u001b[1;31m---------------------------------------------------------------------------\u001b[0m",
      "\u001b[1;31mNameError\u001b[0m                                 Traceback (most recent call last)",
      "\u001b[1;32m<ipython-input-39-d7bd6086c7d0>\u001b[0m in \u001b[0;36m<module>\u001b[1;34m\u001b[0m\n\u001b[0;32m      5\u001b[0m \u001b[0mprint\u001b[0m\u001b[1;33m(\u001b[0m\u001b[0mdict_movies\u001b[0m\u001b[1;33m)\u001b[0m\u001b[1;33m\u001b[0m\u001b[1;33m\u001b[0m\u001b[0m\n\u001b[0;32m      6\u001b[0m \u001b[1;32mdel\u001b[0m \u001b[0mdict_movies\u001b[0m  \u001b[1;31m##<- This deletes the whole Dictionary ->##\u001b[0m\u001b[1;33m\u001b[0m\u001b[1;33m\u001b[0m\u001b[0m\n\u001b[1;32m----> 7\u001b[1;33m \u001b[0mprint\u001b[0m\u001b[1;33m(\u001b[0m\u001b[0mdict_movies\u001b[0m\u001b[1;33m)\u001b[0m \u001b[1;31m##<- Hence there's no dictionary, it throws an Error!!! ->##\u001b[0m\u001b[1;33m\u001b[0m\u001b[1;33m\u001b[0m\u001b[0m\n\u001b[0m",
      "\u001b[1;31mNameError\u001b[0m: name 'dict_movies' is not defined"
     ]
    }
   ],
   "source": [
    "##<- Deleting Dictionary values ->##\n",
    "del dict_movies['Endgame']\n",
    "print(dict_movies)\n",
    "dict_movies.clear() ##<- Clears all the items ->##\n",
    "print(dict_movies)\n",
    "del dict_movies  ##<- This deletes the whole Dictionary ->##\n",
    "print(dict_movies) ##<- Hence there's no dictionary, it throws an Error!!! ->##"
   ]
  },
  {
   "cell_type": "markdown",
   "metadata": {},
   "source": [
    "<h1 style=\"text-shadow: 0.5px 0px 1px #4d4d4d; letter-spacing: 1.5px; word-spacing: 1px;\"><b>Sets</b></h1>"
   ]
  },
  {
   "cell_type": "markdown",
   "metadata": {},
   "source": [
    "<h3 style=\"line-height: 1.5; color:#262626; letter-spacing: 0.75px; word-spacing: 1px;\">A Set is an unordered collection data type that is <b style=\"color: green\">iterable, mutable and has no duplicate elements</b>. Python’s set class represents the mathematical notion of a set.Sets are unordered, Set elements are unique and Duplicate elements are not allowed. A set itself may be modified, but the elements contained in the set must be of an immutable type.</h3>"
   ]
  },
  {
   "cell_type": "code",
   "execution_count": 40,
   "metadata": {},
   "outputs": [
    {
     "name": "stdout",
     "output_type": "stream",
     "text": [
      "{1, 2, 3, 4, 5, 6, 7, 8}\n",
      "<class 'set'>\n",
      "{5, 6, 7, 8, 9, 10, 11, 12}\n",
      "<class 'set'>\n"
     ]
    }
   ],
   "source": [
    "##<- Sets can declared by using the built-in set funtion and by usind curly braces ->##\n",
    "set1 = set([1,2,3,4,5,6,7,8])\n",
    "print(set1)\n",
    "print(type(set1))\n",
    "set2 = {5,6,7,8,9,10,11,12}\n",
    "print(set2)\n",
    "print(type(set2))"
   ]
  },
  {
   "cell_type": "markdown",
   "metadata": {},
   "source": [
    "<h3 style=\"text-shadow: 0.5px 0px 1.2px #4d4d4d; letter-spacing: 1.5px; word-spacing: 1px;\">Some Basic operations</h3>"
   ]
  },
  {
   "cell_type": "code",
   "execution_count": 41,
   "metadata": {},
   "outputs": [
    {
     "name": "stdout",
     "output_type": "stream",
     "text": [
      "{5, 6, 7, 8, 9, 10, 11, 12}\n",
      "{5, 6, 7, 8, 9, 10, 11, 12, 25}\n",
      "{5, 6, 7, 8, 9, 10, 11, 12}\n",
      "{1, 2, 3, 4, 5, 6, 7, 8, 9, 10, 11, 12}\n",
      "{1, 2, 3, 4, 5, 6, 7, 8, 9, 10, 11, 12}\n",
      "{8, 5, 6, 7}\n",
      "{8, 5, 6, 7}\n",
      "{1, 2, 3, 4}\n",
      "{1, 2, 3, 4}\n",
      "{9, 10, 11, 12}\n",
      "True\n",
      "True\n",
      "True\n",
      "True\n"
     ]
    }
   ],
   "source": [
    "##<- Adding elements to the set ->##\n",
    "print(set2)\n",
    "set2.add(25)\n",
    "print(set2)\n",
    "##<- Removing elements to the set ->##\n",
    "set2.discard(25)\n",
    "print(set2)\n",
    "##<- Union of sets using method ->##\n",
    "setu1 = set1.union(set2)\n",
    "print(setu1)\n",
    "##<- Union of sets using operator ->##\n",
    "setu2 = set1 | set2\n",
    "print(setu2)\n",
    "##<- Intersection of sets using method ->##\n",
    "seti1 = set1.intersection(set2)\n",
    "print(seti1)\n",
    "##<- Intersection of sets using operator ->##\n",
    "seti2 = set1 & set2\n",
    "print(seti2)\n",
    "##<- Difference of sets using method ->##\n",
    "setd1 = set1.difference(set2)\n",
    "print(setd1)\n",
    "##<- Difference of sets using operator ->##\n",
    "setd2 = set1 - set2\n",
    "print(setd2)\n",
    "setd3 = set2 - set1\n",
    "print(setd3)\n",
    "##<- Find whether a set is subset of another using method ->##\n",
    "print({1,2,3}.issubset(set1))\n",
    "##<- Find whether a set is subset of another using operator ->##\n",
    "print({1,2,3} <= set1)\n",
    "##<- Find whether a set is superset of another using method ->##\n",
    "print(set1.issuperset({1,2,3}))\n",
    "##<- Find whether a set is superset of another using operator ->##\n",
    "print(set1 >= {1,2,3})"
   ]
  },
  {
   "cell_type": "markdown",
   "metadata": {},
   "source": [
    "<h3 style=\"line-height: 1.5; text-shadow: 0.5px 0px 1.2px #4d4d4d; letter-spacing: 1.5px; word-spacing: 1px;\">Sets have various other functions and another sub category 'Frozen sets', to know more about Sets, Dictionaries, Tuples, Lists refer the Official Python Data Structures Documention<br>check it @<br><a href=\"https://docs.python.org/3/tutorial/datastructures.html#\" target=\"_blank\">Python Data Structures Official Documentation</a></h3>"
   ]
  },
  {
   "cell_type": "markdown",
   "metadata": {},
   "source": [
    "<h1 style=\"text-shadow: 0.5px 0px 1px #4d4d4d; letter-spacing: 1.5px; word-spacing: 1px;\"><b>Linked Lists</b></h1>"
   ]
  },
  {
   "cell_type": "markdown",
   "metadata": {},
   "source": [
    "<h3 style=\"line-height: 1.5; color:#262626; letter-spacing: 0.75px; word-spacing: 1px;\">Linked List are <b style=\"color: green\">ordered collection of objects</b>. Each element of the linked list is called a <b style=\"color: green\">node</b> and every node has two different fields<br>1. <b style=\"color: green\">Data:</b> It is the value to be stored at the node<br>2. <b style=\"color: green\">Next:</b> It has the reference to the next value on the list<br>The first node is called the <b style=\"color: green\">head</b> and it is the starting point and the last node must have it's reference value as <b style=\"color: green\">None</b> indicating the end.</h3>"
   ]
  },
  {
   "cell_type": "markdown",
   "metadata": {},
   "source": [
    "<h3 style=\"text-shadow: 0.5px 0px 1.2px #4d4d4d; letter-spacing: 1.5px; word-spacing: 1px;\">Python has no way of directly declaring Linked List but the can be called via <b style=\"color: green\">Classes</b></h3>"
   ]
  },
  {
   "cell_type": "code",
   "execution_count": 34,
   "metadata": {},
   "outputs": [],
   "source": [
    "##<- Declaring a Node Class ->##\n",
    "class Node:\n",
    "    def __init__(self, data=None):\n",
    "        self.data = data ##<- This stores the value of the instances ->##\n",
    "        self.ref = None\n",
    "\"\"\" \n",
    "##<- The Getters and Setters here are just for making the code simple, we can work with or without them, in the upcoming code I didn't used them Anywhere ->##\n",
    "\n",
    "    def get_data(self):\n",
    "        return self.data\n",
    "    def set_data(self, data):\n",
    "        self.data = data\n",
    "    def get_ref(self):\n",
    "        return self.ref\n",
    "    def set_ref(self, ref):\n",
    "        self.ref = ref \"\"\"\n",
    "        \n",
    "##<- Declaring a Linked List Class ->##\n",
    "class Linked:\n",
    "    def __init__(self):\n",
    "        self.head = Node() ##<- Here head attribute is an object of the Node class ->##\n",
    "        self.size = 0      ##<- Size attribute stores the size of the Linked list ->##\n",
    "\n",
    "    def append(self, data): ##<- We declare a method Append to add elements to our Linked list object ->##\n",
    "        new = Node(data)   ##<- new is object of the Node just like head but we pass the element,that has ->##\n",
    "                           ##<- to be added to the linked list. But head.data = None & head.ref = None ->##\n",
    "                           ##<- Whereas new.data = data & new.ref = None ->##\n",
    "        cur = self.head    ##<- For simplification of code we used cur variable ->##\n",
    "        while cur.ref != None: ##<- We are iterating to get the last None object ->##\n",
    "            cur = cur.ref\n",
    "        cur.ref = new          ##<- Assiging the last None object to new one we are inserted ->##\n",
    "        self.size += 1         ##<- Increasing the List size ->##\n",
    "    \n",
    "    def get_size(self):\n",
    "        return self.size ##<- Returns the size of the Node ->##\n",
    "\n",
    "    def display(self): ##<- One of the ways to display the elements stored is converting them to a Lists ->##\n",
    "        el = []\n",
    "        cur_node = self.head ##<- Again for simplification of code we used cur_node variable ->##\n",
    "        while cur_node.ref !=None: ##<- This While Loop functions same as the Append's While Loop ->##\n",
    "            cur_node = cur_node.ref\n",
    "            el.append(cur_node.data) ##<- Appending Each Node object's data to the el List ->##\n",
    "        return el\n",
    "    \n",
    "    def find(self, data):  ##<- This method helps to check whether a particular element is present or not ->##\n",
    "        find_node = self.head  ##<- The working of this method is based on the Append method ->##\n",
    "        while find_node != None:\n",
    "            if find_node.data == data:\n",
    "                present = True\n",
    "                return True\n",
    "            else:\n",
    "                find_node = find_node.ref\n",
    "        return False\n",
    "        \n",
    "    def remove(self, data):\n",
    "        prev = self.head\n",
    "        while prev.ref != None:\n",
    "            cur = prev.ref\n",
    "            if cur.data == data:\n",
    "                prev.ref = cur.ref  ##<- Here we Assign the Current element(i.e., Element we want to remove) to the element next to it ->##\n",
    "                self.size -= 1 ##<- And we reduce the size by 1 ->##\n",
    "                return True\n",
    "            prev = cur\n",
    "        return False"
   ]
  },
  {
   "cell_type": "code",
   "execution_count": 35,
   "metadata": {},
   "outputs": [],
   "source": [
    "my = Linked()\n",
    "my.append(2)\n",
    "my.append(4)\n",
    "my.append(6)"
   ]
  },
  {
   "cell_type": "code",
   "execution_count": 37,
   "metadata": {
    "scrolled": true
   },
   "outputs": [
    {
     "data": {
      "text/plain": [
       "3"
      ]
     },
     "execution_count": 37,
     "metadata": {},
     "output_type": "execute_result"
    }
   ],
   "source": [
    "my.get_size()"
   ]
  },
  {
   "cell_type": "code",
   "execution_count": 38,
   "metadata": {},
   "outputs": [
    {
     "data": {
      "text/plain": [
       "[2, 4, 6]"
      ]
     },
     "execution_count": 38,
     "metadata": {},
     "output_type": "execute_result"
    }
   ],
   "source": [
    "my.display()"
   ]
  },
  {
   "cell_type": "code",
   "execution_count": 39,
   "metadata": {},
   "outputs": [
    {
     "data": {
      "text/plain": [
       "True"
      ]
     },
     "execution_count": 39,
     "metadata": {},
     "output_type": "execute_result"
    }
   ],
   "source": [
    "my.find(6)"
   ]
  },
  {
   "cell_type": "code",
   "execution_count": 40,
   "metadata": {},
   "outputs": [
    {
     "data": {
      "text/plain": [
       "True"
      ]
     },
     "execution_count": 40,
     "metadata": {},
     "output_type": "execute_result"
    }
   ],
   "source": [
    "my.remove(4)"
   ]
  },
  {
   "cell_type": "code",
   "execution_count": 41,
   "metadata": {},
   "outputs": [
    {
     "data": {
      "text/plain": [
       "[2, 6]"
      ]
     },
     "execution_count": 41,
     "metadata": {},
     "output_type": "execute_result"
    }
   ],
   "source": [
    "my.display()"
   ]
  },
  {
   "cell_type": "code",
   "execution_count": 42,
   "metadata": {},
   "outputs": [
    {
     "data": {
      "text/plain": [
       "False"
      ]
     },
     "execution_count": 42,
     "metadata": {},
     "output_type": "execute_result"
    }
   ],
   "source": [
    "my.find(4)"
   ]
  },
  {
   "cell_type": "code",
   "execution_count": 47,
   "metadata": {},
   "outputs": [
    {
     "data": {
      "text/plain": [
       "2"
      ]
     },
     "execution_count": 47,
     "metadata": {},
     "output_type": "execute_result"
    }
   ],
   "source": [
    "my.get_size()"
   ]
  },
  {
   "cell_type": "markdown",
   "metadata": {},
   "source": [
    "<h4 style=\"line-height: 1.25; color:SteelBlue; letter-spacing: 0.75px; word-spacing: 1px;\">Note: There are still many methods that can be called in the Linked List class, For example Insert method, Get item and Set item and even a Sort method for the data in the linked list etc..,</h4>"
   ]
  },
  {
   "cell_type": "markdown",
   "metadata": {},
   "source": [
    "<h1 style=\"text-shadow: 0.5px 0px 1px #4d4d4d; letter-spacing: 1.5px; word-spacing: 1px;\"><b>Stacks</b></h1>"
   ]
  },
  {
   "cell_type": "markdown",
   "metadata": {},
   "source": [
    "<h3 style=\"line-height: 1.5; color:#262626; letter-spacing: 0.75px; word-spacing: 1px;\">The Stack data structure is a <b style=\"color: green\">linear data structure</b> and it is very similar to a <b style=\"color: green\">physical stack</b>. It stores items in a <b style=\"color: green\">Last-In/First-Out (LIFO)</b>. In stack, a new element is added at <b style=\"color: green\">one end and an element is removed from that end only</b>.</h3>"
   ]
  },
  {
   "cell_type": "code",
   "execution_count": 60,
   "metadata": {},
   "outputs": [],
   "source": [
    "##<- Like the Linked List we declare Stacks via Classes ->##\n",
    "class Stack:\n",
    "    def __init__(self):\n",
    "        self.elements = [] ##<- We adapt the python built-in list to implement the stacks ->##\n",
    "    def push(self, el):\n",
    "        self.elements.append(el) ##<- This method appends the elements at the end of the list ->##\n",
    "    def pop(self):\n",
    "        self.elements.pop() ##<- This method removes the elements at the end of the list ->##\n",
    "    def get_stack(self):\n",
    "        return self.elements ##<- This method returns the whole element list ->##\n",
    "    def is_empty(self):\n",
    "        return self.elements == [] ##<- This method returns True if the element stack is empty ->##\n",
    "    def peek(self):\n",
    "        if not self.is_empty():\n",
    "            return self.elements[-1]\n",
    "    "
   ]
  },
  {
   "cell_type": "code",
   "execution_count": 67,
   "metadata": {},
   "outputs": [],
   "source": [
    "myStack = Stack()"
   ]
  },
  {
   "cell_type": "code",
   "execution_count": 68,
   "metadata": {},
   "outputs": [
    {
     "data": {
      "text/plain": [
       "[]"
      ]
     },
     "execution_count": 68,
     "metadata": {},
     "output_type": "execute_result"
    }
   ],
   "source": [
    "myStack.get_stack()"
   ]
  },
  {
   "cell_type": "code",
   "execution_count": 69,
   "metadata": {},
   "outputs": [
    {
     "data": {
      "text/plain": [
       "[2, 4, 5]"
      ]
     },
     "execution_count": 69,
     "metadata": {},
     "output_type": "execute_result"
    }
   ],
   "source": [
    "myStack.push(2)\n",
    "myStack.push(4)\n",
    "myStack.push(5)\n",
    "myStack.get_stack()"
   ]
  },
  {
   "cell_type": "code",
   "execution_count": 70,
   "metadata": {},
   "outputs": [
    {
     "data": {
      "text/plain": [
       "[2, 4]"
      ]
     },
     "execution_count": 70,
     "metadata": {},
     "output_type": "execute_result"
    }
   ],
   "source": [
    "myStack.pop()\n",
    "myStack.get_stack()"
   ]
  },
  {
   "cell_type": "code",
   "execution_count": 71,
   "metadata": {},
   "outputs": [
    {
     "data": {
      "text/plain": [
       "False"
      ]
     },
     "execution_count": 71,
     "metadata": {},
     "output_type": "execute_result"
    }
   ],
   "source": [
    "myStack.is_empty()"
   ]
  },
  {
   "cell_type": "code",
   "execution_count": 72,
   "metadata": {},
   "outputs": [
    {
     "data": {
      "text/plain": [
       "4"
      ]
     },
     "execution_count": 72,
     "metadata": {},
     "output_type": "execute_result"
    }
   ],
   "source": [
    "myStack.peek()"
   ]
  },
  {
   "cell_type": "markdown",
   "metadata": {},
   "source": [
    "<h1 style=\"text-shadow: 0.5px 0px 1px #4d4d4d; letter-spacing: 1.5px; word-spacing: 1px;\"><b>Queue</b></h1>"
   ]
  },
  {
   "cell_type": "markdown",
   "metadata": {},
   "source": [
    "<h3 style=\"line-height: 1.5; color:#262626; letter-spacing: 0.75px; word-spacing: 1px;\">Like stack, Queue is a  <b style=\"color: green\">linear data structure</b> and it is very similar to <b style=\"color: green\">any queue of consumers for a resource where the consumer that came first is served first.</b>. It stores items in a <b style=\"color: green\">First In First Out (FIFO)</b> manner. In Queue, a new element is added at only in the <b style=\"color: green\">first index</b> but is removed from <b style=\"color: green\">Last</b>(because the element in the  last index is the element that is added the First in the Queue).</h3>"
   ]
  },
  {
   "cell_type": "code",
   "execution_count": 73,
   "metadata": {},
   "outputs": [],
   "source": [
    "##<- Like the Stacks we declare Queue via Classes ->##\n",
    "class Queue:\n",
    "    def __init__(self):\n",
    "        self.el = [] ##<- We adapt the python built-in list to implement the queue ->##\n",
    "    def enqueue(self, e):\n",
    "        self.el.insert(0, e) ##<- This method appends the elements at the Start of the list ->##\n",
    "    def dequeue(self):\n",
    "        self.el.pop() ##<- This method removes the elements at the end of the list ->##\n",
    "    def get_queue(self):\n",
    "        return self.el ##<- This method returns the whole element list ->##\n",
    "    def is_empty(self):\n",
    "        return self.el == [] ##<- This method returns True if the element stack is empty ->##"
   ]
  },
  {
   "cell_type": "code",
   "execution_count": 74,
   "metadata": {},
   "outputs": [],
   "source": [
    "myQueue = Queue()"
   ]
  },
  {
   "cell_type": "code",
   "execution_count": 75,
   "metadata": {},
   "outputs": [
    {
     "data": {
      "text/plain": [
       "True"
      ]
     },
     "execution_count": 75,
     "metadata": {},
     "output_type": "execute_result"
    }
   ],
   "source": [
    "myQueue.is_empty()"
   ]
  },
  {
   "cell_type": "code",
   "execution_count": 76,
   "metadata": {},
   "outputs": [
    {
     "data": {
      "text/plain": [
       "[5, 4, 3, 2]"
      ]
     },
     "execution_count": 76,
     "metadata": {},
     "output_type": "execute_result"
    }
   ],
   "source": [
    "myQueue.enqueue(2)\n",
    "myQueue.enqueue(3)\n",
    "myQueue.enqueue(4)\n",
    "myQueue.enqueue(5)\n",
    "myQueue.get_queue()"
   ]
  },
  {
   "cell_type": "code",
   "execution_count": 77,
   "metadata": {},
   "outputs": [
    {
     "data": {
      "text/plain": [
       "[5, 4, 3]"
      ]
     },
     "execution_count": 77,
     "metadata": {},
     "output_type": "execute_result"
    }
   ],
   "source": [
    "myQueue.dequeue()\n",
    "myQueue.get_queue()"
   ]
  },
  {
   "cell_type": "code",
   "execution_count": 78,
   "metadata": {},
   "outputs": [
    {
     "data": {
      "text/plain": [
       "[5, 4]"
      ]
     },
     "execution_count": 78,
     "metadata": {},
     "output_type": "execute_result"
    }
   ],
   "source": [
    "myQueue.dequeue()\n",
    "myQueue.get_queue()"
   ]
  },
  {
   "cell_type": "code",
   "execution_count": 79,
   "metadata": {},
   "outputs": [
    {
     "data": {
      "text/plain": [
       "False"
      ]
     },
     "execution_count": 79,
     "metadata": {},
     "output_type": "execute_result"
    }
   ],
   "source": [
    "myQueue.is_empty()"
   ]
  },
  {
   "cell_type": "markdown",
   "metadata": {},
   "source": [
    "<h1 style=\"text-shadow: 0.5px 0px 1px #4d4d4d; letter-spacing: 1.5px; word-spacing: 1px;\"><b>Hashing</b></h1>"
   ]
  },
  {
   "cell_type": "markdown",
   "metadata": {},
   "source": [
    "<h3 style=\"line-height: 1.5; color:#262626; letter-spacing: 0.75px; word-spacing: 1px;\">Hashing is the process of converting a given <b style=\"color: green\">key</b> into another <b style=\"color: green\">value</b>. A hash function is used to generate the new value according to a mathematical algorithm. The result of a hash function is known as a hash value or simply, a hash.<br><br>The Most common and easy way of Implementing Hashing in python is via <b style=\"color: green\">Dictionaries</b>. But I have implemented using <b style=\"color: green\">Classes</b>.</h3>"
   ]
  },
  {
   "cell_type": "code",
   "execution_count": 1,
   "metadata": {},
   "outputs": [],
   "source": [
    "##<- Declaring Hash via Classes ->##\n",
    "class HashTable:  \n",
    "    def __init__(self):\n",
    "        self.MAX = 100   ##<- This is just an assumptions to create on empty list ->##\n",
    "        self.arr = [None for i in range(self.MAX)]  ##<- Creating a list full of 'None' using list comphrehension ->##\n",
    "        \n",
    "    def get_hash(self, key):  ##<- This gets the key value from user and encrypt the value into an integer ->##\n",
    "        hash = 0\n",
    "        for char in key:\n",
    "            hash += ord(char)  ##<- This converts all the 'char' to the respective ASCII value and sums it up ->##\n",
    "        return hash % self.MAX \n",
    "    \n",
    "    def __getitem__(self, index): ##<- This method returns the value at the respective key ->##\n",
    "        h = self.get_hash(index)\n",
    "        return self.arr[h]\n",
    "    \n",
    "    def __setitem__(self, key, val): ##<- This method Assigns the value at the respective key ->##\n",
    "        h = self.get_hash(key)\n",
    "        self.arr[h] = val    \n",
    "        \n",
    "    def __delitem__(self, key): ##<- This method removes the value at the respective key ->##\n",
    "        h = self.get_hash(key)\n",
    "        self.arr[h] = None        "
   ]
  },
  {
   "cell_type": "code",
   "execution_count": 2,
   "metadata": {},
   "outputs": [],
   "source": [
    "myHash = HashTable()"
   ]
  },
  {
   "cell_type": "code",
   "execution_count": 4,
   "metadata": {},
   "outputs": [
    {
     "name": "stdout",
     "output_type": "stream",
     "text": [
      "16\n"
     ]
    }
   ],
   "source": [
    "print(myHash.get_hash('Monday'))"
   ]
  },
  {
   "cell_type": "code",
   "execution_count": 5,
   "metadata": {},
   "outputs": [
    {
     "name": "stdout",
     "output_type": "stream",
     "text": [
      "35\n"
     ]
    }
   ],
   "source": [
    "print(myHash.get_hash('Tuesday'))"
   ]
  },
  {
   "cell_type": "code",
   "execution_count": 10,
   "metadata": {},
   "outputs": [
    {
     "name": "stdout",
     "output_type": "stream",
     "text": [
      "10\n",
      "12\n"
     ]
    }
   ],
   "source": [
    "myHash['Monday'] = 10\n",
    "myHash['Tuesday'] = 12\n",
    "print(myHash['Monday'])\n",
    "print(myHash['Tuesday'])"
   ]
  },
  {
   "cell_type": "code",
   "execution_count": 11,
   "metadata": {},
   "outputs": [
    {
     "data": {
      "text/plain": [
       "[None,\n",
       " None,\n",
       " None,\n",
       " None,\n",
       " None,\n",
       " None,\n",
       " None,\n",
       " None,\n",
       " None,\n",
       " None,\n",
       " None,\n",
       " None,\n",
       " None,\n",
       " None,\n",
       " None,\n",
       " None,\n",
       " 10,\n",
       " None,\n",
       " None,\n",
       " None,\n",
       " None,\n",
       " None,\n",
       " None,\n",
       " None,\n",
       " None,\n",
       " None,\n",
       " None,\n",
       " None,\n",
       " None,\n",
       " None,\n",
       " None,\n",
       " None,\n",
       " None,\n",
       " None,\n",
       " None,\n",
       " 12,\n",
       " None,\n",
       " None,\n",
       " None,\n",
       " None,\n",
       " None,\n",
       " None,\n",
       " None,\n",
       " None,\n",
       " None,\n",
       " None,\n",
       " None,\n",
       " None,\n",
       " None,\n",
       " None,\n",
       " None,\n",
       " None,\n",
       " None,\n",
       " None,\n",
       " None,\n",
       " None,\n",
       " None,\n",
       " None,\n",
       " None,\n",
       " None,\n",
       " None,\n",
       " None,\n",
       " None,\n",
       " None,\n",
       " None,\n",
       " None,\n",
       " None,\n",
       " None,\n",
       " None,\n",
       " None,\n",
       " None,\n",
       " None,\n",
       " None,\n",
       " None,\n",
       " None,\n",
       " None,\n",
       " None,\n",
       " None,\n",
       " None,\n",
       " None,\n",
       " None,\n",
       " None,\n",
       " None,\n",
       " None,\n",
       " None,\n",
       " None,\n",
       " None,\n",
       " None,\n",
       " None,\n",
       " None,\n",
       " None,\n",
       " None,\n",
       " None,\n",
       " None,\n",
       " None,\n",
       " None,\n",
       " None,\n",
       " None,\n",
       " None,\n",
       " None]"
      ]
     },
     "execution_count": 11,
     "metadata": {},
     "output_type": "execute_result"
    }
   ],
   "source": [
    "myHash.arr"
   ]
  },
  {
   "cell_type": "markdown",
   "metadata": {},
   "source": [
    "<h1 style=\"text-shadow: 0.5px 0px 1px #4d4d4d; letter-spacing: 1.5px; word-spacing: 1px;\"><b>Binary Tree</b></h1>"
   ]
  },
  {
   "cell_type": "markdown",
   "metadata": {},
   "source": [
    "<h3 style=\"line-height: 1.5; color:#262626; letter-spacing: 0.75px; word-spacing: 1px;\">A binary tree is a tree data structure in which each <b style=\"color: green\">parent node</b> can have at most <b style=\"color: green\">two children</b>. The parent node is referred as <b style=\"color: green\">root node</b> or <b style=\"color: green\">internal node</b>, the child nodes are referred as <b style=\"color: green\">right child</b> and <b style=\"color: green\">left child</b>.</h3>"
   ]
  },
  {
   "cell_type": "code",
   "execution_count": 5,
   "metadata": {},
   "outputs": [],
   "source": [
    "class Tree:\n",
    "    def __init__(self, data):\n",
    "        self.left = None\n",
    "        self.right = None\n",
    "        self.data = data\n",
    "        \n",
    "    def insert(self, data):\n",
    "        if self.data:\n",
    "            if data < self.data:\n",
    "                if self.left is None:\n",
    "                    self.left = Tree(data)\n",
    "                else:\n",
    "                    self.left.insert(data)\n",
    "            elif data > self.data:\n",
    "                if self.right is None:\n",
    "                    self.right = Tree(data)\n",
    "                else:\n",
    "                    self.right.insert(data)\n",
    "        else:\n",
    "            self.data = data\n",
    "\n",
    "    def PrintTree(self):\n",
    "        if self.left:\n",
    "            self.left.PrintTree()\n",
    "        print( self.data),\n",
    "        if self.right:\n",
    "            self.right.PrintTree()"
   ]
  },
  {
   "cell_type": "code",
   "execution_count": 6,
   "metadata": {},
   "outputs": [
    {
     "name": "stdout",
     "output_type": "stream",
     "text": [
      "1\n",
      "3\n",
      "4\n",
      "6\n",
      "7\n",
      "8\n",
      "10\n",
      "13\n",
      "14\n",
      "None\n"
     ]
    }
   ],
   "source": [
    "root = Tree(8)\n",
    "root.insert(3)\n",
    "root.insert(10)\n",
    "root.insert(1)\n",
    "root.insert(13)\n",
    "root.insert(6)\n",
    "root.insert(7)\n",
    "root.insert(4)\n",
    "root.insert(14)\n",
    "print(root.PrintTree())"
   ]
  },
  {
   "cell_type": "markdown",
   "metadata": {},
   "source": [
    "<h1 style=\"text-shadow: 0.5px 0px 1px #4d4d4d; letter-spacing: 1.5px; word-spacing: 1px;\"><b>Heaps</b></h1>"
   ]
  },
  {
   "cell_type": "markdown",
   "metadata": {},
   "source": [
    "<h3 style=\"line-height: 1.5; color:#262626; letter-spacing: 0.75px; word-spacing: 1px;\">Heap is a specialized <b style=\"color: green\">tree-based</b> data structure which is essentially an almost complete tree that satisfies the <b style=\"color: green\">heap property</b><br>There are two types of Heap property:-<br><b style=\"color: green\">Min Heap</b>, where each parent node is less than or equal to its child node.<br><b style=\"color: green\">Max Heap</b>, where each parent node is greater than or equal to its child node.</h3>"
   ]
  },
  {
   "cell_type": "code",
   "execution_count": 8,
   "metadata": {},
   "outputs": [
    {
     "name": "stdout",
     "output_type": "stream",
     "text": [
      "[12, 40, 5, 18, 101, 55, 60]\n",
      "[5, 18, 12, 40, 101, 55, 60]\n"
     ]
    }
   ],
   "source": [
    "##<- We create Heaps by using python’s inbuilt library \"heapq\" ->##\n",
    "import heapq\n",
    "A = [12,40,5,18,101,55,60]\n",
    "print(A)\n",
    "heapq.heapify(A) ##<- This function creates a heap from a regular List ->##\n",
    "print(A)"
   ]
  },
  {
   "cell_type": "code",
   "execution_count": 9,
   "metadata": {},
   "outputs": [
    {
     "name": "stdout",
     "output_type": "stream",
     "text": [
      "[5, 18, 12, 40, 101, 55, 60, 500]\n"
     ]
    }
   ],
   "source": [
    "##<- Insterting New elements ->##\n",
    "heapq.heappush(A, 500) ##<- This Adds elements only at the end index ->##\n",
    "print(A)"
   ]
  },
  {
   "cell_type": "code",
   "execution_count": 10,
   "metadata": {},
   "outputs": [
    {
     "name": "stdout",
     "output_type": "stream",
     "text": [
      "[12, 18, 55, 40, 101, 500, 60]\n"
     ]
    }
   ],
   "source": [
    "##<- Removing New elements ->##\n",
    "heapq.heappop(A) ##<- This Removes elements only from the start index ->##\n",
    "print(A)"
   ]
  },
  {
   "cell_type": "code",
   "execution_count": 11,
   "metadata": {},
   "outputs": [
    {
     "name": "stdout",
     "output_type": "stream",
     "text": [
      "[18, 40, 55, 88, 101, 500, 60]\n"
     ]
    }
   ],
   "source": [
    "##<- Replace Existing elements ->##\n",
    "heapq.heapreplace(A,88) ##<- This replaces the existing small element with an incoming element ->##\n",
    "print(A)"
   ]
  },
  {
   "cell_type": "markdown",
   "metadata": {},
   "source": [
    "<h1 style=\"text-shadow: 0.5px 0px 1.2px #4d4d4d; letter-spacing: 1.5px; word-spacing: 1.25px;\">Algorithms</h1>"
   ]
  },
  {
   "cell_type": "markdown",
   "metadata": {},
   "source": [
    "<h3 style=\"line-height: 1.5; color:#262626; letter-spacing: 0.75px; word-spacing: 1px;\">Algorithm is a step-by-step procedure, which defines a set of instructions to be executed in a certain order to get the desired output.</h3>"
   ]
  },
  {
   "cell_type": "markdown",
   "metadata": {},
   "source": [
    "<h2 style=\"text-shadow: 0.5px 0px 1px #4d4d4d; letter-spacing: 1.5px; word-spacing: 1px;\"><b>1. Binary Search</b></h2>"
   ]
  },
  {
   "cell_type": "markdown",
   "metadata": {},
   "source": [
    "<h3 style=\"line-height: 1.5; color:#262626; letter-spacing: 0.75px; word-spacing: 1px;\">Binary Search is an example of <b style=\"color: green\">divide-and-conquer</b> programming approach. Here we take a <b style=\"color: green\">Sorted Array</b>, and take the <b style=\"color: green\">middle value</b> and compare it with the <b style=\"color: green\">value</b> we need to check, if the middle value is <b style=\"color: green\">more</b> we <b style=\"color: green\">subract</b> an index and check again, if the value is <b style=\"color: green\">less</b> we <b style=\"color: green\">add</b> an idex and check again.</h3>"
   ]
  },
  {
   "cell_type": "code",
   "execution_count": 6,
   "metadata": {},
   "outputs": [],
   "source": [
    "##<- In Binary Search we can only pass \"Sorted\" list ->##\n",
    "def BinarySearch(lists, item):\n",
    "    first = 0\n",
    "    last = len(lists) - 1\n",
    "    present = False\n",
    "    while first <= last and not present:\n",
    "        mid = (first + last) // 2\n",
    "        if lists[mid] == item:\n",
    "            present = True\n",
    "        elif lists[mid] < item:\n",
    "            first = mid + 1\n",
    "        else:\n",
    "            last = mid - 1\n",
    "    return present"
   ]
  },
  {
   "cell_type": "code",
   "execution_count": 11,
   "metadata": {},
   "outputs": [
    {
     "name": "stdout",
     "output_type": "stream",
     "text": [
      "True\n"
     ]
    }
   ],
   "source": [
    "print(BinarySearch([1,2,3,5,8,11,15,19,22,25,26,30,35], 22))"
   ]
  },
  {
   "cell_type": "code",
   "execution_count": 12,
   "metadata": {},
   "outputs": [
    {
     "name": "stdout",
     "output_type": "stream",
     "text": [
      "False\n"
     ]
    }
   ],
   "source": [
    "print(BinarySearch([1,2,3,5,8,11,15,19,22,25,26,30,35], 20))"
   ]
  },
  {
   "cell_type": "markdown",
   "metadata": {},
   "source": [
    "<h3 style=\"line-height: 1.5; color:#262626; letter-spacing: 0.75px; word-spacing: 1px;\"0><b style=\"color: green\">Pros</b>: The major advantage of this Binary Search algorithm is that the time complexity to <b style=\"color: green\">O(Log n)</b> where as for a Linear Search algorithm is <b style=\"color: green\">O(n)</b>.<br><b style=\"color: green\">Cons</b>: This Algorithm is used only where there is a <b style=\"color: green\">Sorted</b> array is present</h3>"
   ]
  },
  {
   "cell_type": "markdown",
   "metadata": {},
   "source": [
    "<h2 style=\"text-shadow: 0.5px 0px 1px #4d4d4d; letter-spacing: 1.5px; word-spacing: 1px;\"><b>2. Recurion</b></h2>"
   ]
  },
  {
   "cell_type": "markdown",
   "metadata": {},
   "source": [
    "<h3 style=\"line-height: 1.5; color:#262626; letter-spacing: 0.75px; word-spacing: 1px;\">Recursion means that a function <b style=\"color: green\">calls itself</b>. Fixed steps of code get <b style=\"color: green\">executed</b> again and again for <b style=\"color: green\">new values</b>. We also have to set criteria for deciding when the <b style=\"color: green\">recursive call ends</b>.</h3>"
   ]
  },
  {
   "cell_type": "code",
   "execution_count": 1,
   "metadata": {},
   "outputs": [],
   "source": [
    "##<- Let's define a Recursive function to get Factorial of a number ->##\n",
    "def Recurse(num):\n",
    "    if num == 1:\n",
    "        return num\n",
    "    else:\n",
    "        return (num * Recurse(num - 1))"
   ]
  },
  {
   "cell_type": "code",
   "execution_count": 4,
   "metadata": {},
   "outputs": [
    {
     "data": {
      "text/plain": [
       "120"
      ]
     },
     "execution_count": 4,
     "metadata": {},
     "output_type": "execute_result"
    }
   ],
   "source": [
    "Recurse(5)"
   ]
  },
  {
   "cell_type": "code",
   "execution_count": 6,
   "metadata": {},
   "outputs": [],
   "source": [
    "##<- Recursive function to get Summation of First n natural number ->##\n",
    "def Sum(num):\n",
    "    if num == 0:\n",
    "        return num\n",
    "    else:\n",
    "        return(num + Sum(num-1))"
   ]
  },
  {
   "cell_type": "code",
   "execution_count": 14,
   "metadata": {},
   "outputs": [
    {
     "data": {
      "text/plain": [
       "210"
      ]
     },
     "execution_count": 14,
     "metadata": {},
     "output_type": "execute_result"
    }
   ],
   "source": [
    "Sum(20)"
   ]
  },
  {
   "cell_type": "markdown",
   "metadata": {},
   "source": [
    "<h3 style=\"line-height: 1.5; color:#262626; letter-spacing: 0.75px; word-spacing: 1px;\"0><b style=\"color: green\">Pros</b>: The major advantage of this Recursion Algorithm is that the complex task can be broken down into simpler <b style=\"color: green\">sub-problems</b> and <b style=\"color: green\">Loops</b> can be eliminated with usage of Recursion.<br><b style=\"color: green\">Cons</b>: Recursive calls are <b style=\"color: green\">inefficient</b> as they take up a lot of <b style=\"color: green\">memory</b> and <b style=\"color: green\">time</b>.</h3>"
   ]
  },
  {
   "cell_type": "markdown",
   "metadata": {},
   "source": [
    "<h4 style=\"line-height: 1.25; color:SteelBlue; letter-spacing: 0.75px; word-spacing: 1px;\">Note: Recursion's usage is not limited, even it can be applied to the Binary Search Algorithm</h4>"
   ]
  },
  {
   "cell_type": "markdown",
   "metadata": {},
   "source": [
    "<h2 style=\"text-shadow: 0.5px 0px 1px #4d4d4d; letter-spacing: 1.5px; word-spacing: 1px;\"><b>3. Backtracking</b></h2>"
   ]
  },
  {
   "cell_type": "markdown",
   "metadata": {},
   "source": [
    "<h3 style=\"line-height: 1.5; color:#262626; letter-spacing: 0.75px; word-spacing: 1px;\">Backtracking is a type of <b style=\"color: green\">Recursive algorithmic-technique</b> for solving problems recursively by trying to build a <b style=\"color: green\">solution incrementally</b>, one piece at a time, <b style=\"color: green\">removing</b> those solutions that <b style=\"color: green\">fail to satisfy</b> the constraints of the problem at any point of time.</h3>"
   ]
  },
  {
   "cell_type": "code",
   "execution_count": 23,
   "metadata": {},
   "outputs": [],
   "source": [
    "##<- Let's define a Backtracking function to get all possible combination of a given list ->##\n",
    "def BackTrack(n, l): ##<- The first argument is the number of elements need to be combined ->##\n",
    "    if n == 1:\n",
    "        return l\n",
    "    else:\n",
    "        return [str(a)+str(b) for a in BackTrack(1, l) for b in BackTrack(n-1, l)]"
   ]
  },
  {
   "cell_type": "code",
   "execution_count": 24,
   "metadata": {},
   "outputs": [
    {
     "data": {
      "text/plain": [
       "['aa', 'ab', 'ac', 'ba', 'bb', 'bc', 'ca', 'cb', 'cc']"
      ]
     },
     "execution_count": 24,
     "metadata": {},
     "output_type": "execute_result"
    }
   ],
   "source": [
    "BackTrack(2, [\"a\",\"b\",\"c\"]) ##<- The given list is to be combined by 2 elements in all possible ways ->##"
   ]
  },
  {
   "cell_type": "code",
   "execution_count": 25,
   "metadata": {},
   "outputs": [
    {
     "data": {
      "text/plain": [
       "['111',\n",
       " '112',\n",
       " '113',\n",
       " '121',\n",
       " '122',\n",
       " '123',\n",
       " '131',\n",
       " '132',\n",
       " '133',\n",
       " '211',\n",
       " '212',\n",
       " '213',\n",
       " '221',\n",
       " '222',\n",
       " '223',\n",
       " '231',\n",
       " '232',\n",
       " '233',\n",
       " '311',\n",
       " '312',\n",
       " '313',\n",
       " '321',\n",
       " '322',\n",
       " '323',\n",
       " '331',\n",
       " '332',\n",
       " '333']"
      ]
     },
     "execution_count": 25,
     "metadata": {},
     "output_type": "execute_result"
    }
   ],
   "source": [
    "BackTrack(3, [1,2,3])  ##<- The given list is to be combined by 3 elements in all possible ways ->##"
   ]
  },
  {
   "cell_type": "markdown",
   "metadata": {},
   "source": [
    "<h3 style=\"line-height: 1.5; color:#262626; letter-spacing: 0.75px; word-spacing: 1px;\"0><b style=\"color: green\">Pros</b>: The BackTrack Algorithm can also be used as the <b style=\"color: green\">bruteforce method</b> as it gives all the possible solution.<br><b style=\"color: green\">Cons</b>: BackTrack Algorithm takes up a lot of <b style=\"color: green\">memory</b> and <b style=\"color: green\">time</b>.</h3>"
   ]
  },
  {
   "cell_type": "markdown",
   "metadata": {},
   "source": [
    "<h4 style=\"line-height: 1.25; color:SteelBlue; letter-spacing: 0.75px; word-spacing: 1px;\">Note: Backtracking has vast application ranging from a Sudoku solver to Ethical hacking.</h4>"
   ]
  },
  {
   "cell_type": "markdown",
   "metadata": {},
   "source": [
    "<h2 style=\"text-shadow: 0.5px 0px 1px #4d4d4d; letter-spacing: 1.5px; word-spacing: 1px;\"><b>4. Tree Transversal</b></h2>"
   ]
  },
  {
   "cell_type": "markdown",
   "metadata": {},
   "source": [
    "<h3 style=\"line-height: 1.5; color:#262626; letter-spacing: 0.75px; word-spacing: 1px;\"><b style=\"color: green\">Traversing</b> a tree means visiting <b style=\"color: green\">every node</b> in the tree. To perform any operation like to find the largest value, print all elements, etc., we need to visit all nodes. Unlike linear data structures (Array, Linked List, Queues, Stacks, etc) which have only <b style=\"color: green\">one</b> logical way to traverse them, trees can be traversed in <b style=\"color: green\">different ways</b>. Following are the generally used ways for traversing trees.<br>1. <b style=\"color: green\">In-order</b> Traversal.<br>2. <b style=\"color: green\">Pre-order</b> Traversal.<br>2. <b style=\"color: green\">Post-order</b> Traversal.</h3>"
   ]
  },
  {
   "cell_type": "markdown",
   "metadata": {},
   "source": [
    "<h2 style=\" letter-spacing: 1.25px; word-spacing: 1px;\"><i>1. In-order Traversal.</i></h2>"
   ]
  },
  {
   "cell_type": "markdown",
   "metadata": {},
   "source": [
    "<h3 style=\"line-height: 1.5; color:#262626; letter-spacing: 0.75px; word-spacing: 1px;\">In this traversal method, the <b style=\"color: green\">left sub-tree</b> is visited first, then the <b style=\"color: green\">root</b> and later the <b style=\"color: green\">right sub-tree</b>. Note that every node may represent a subtree itself.</h3>"
   ]
  },
  {
   "cell_type": "code",
   "execution_count": 12,
   "metadata": {},
   "outputs": [],
   "source": [
    "class Tree:\n",
    "    def __init__(self, data):\n",
    "        self.left = None\n",
    "        self.right = None\n",
    "        self.data = data\n",
    "        \n",
    "    def insert(self, data):\n",
    "        if self.data:\n",
    "            if data < self.data:\n",
    "                if self.left is None:\n",
    "                    self.left = Node(data)\n",
    "                else:\n",
    "                    self.left.insert(data)\n",
    "            elif data > self.data:\n",
    "                if self.right is None:\n",
    "                    self.right = Node(data)\n",
    "                else:\n",
    "                    self.right.insert(data)\n",
    "        else:\n",
    "            self.data = data\n",
    "\n",
    "    def PrintTree(self):\n",
    "        if self.left:\n",
    "            self.left.PrintTree()\n",
    "        print( self.data),\n",
    "        if self.right:\n",
    "            self.right.PrintTree()\n",
    "\n",
    "    def inorderTraversal(self, root):\n",
    "        res = []\n",
    "        if root:\n",
    "            res = self.inorderTraversal(root.left)\n",
    "            res.append(root.data)\n",
    "            res = res + self.inorderTraversal(root.right)\n",
    "        return res"
   ]
  },
  {
   "cell_type": "code",
   "execution_count": 26,
   "metadata": {},
   "outputs": [
    {
     "data": {
      "image/png": "[encoded data removed]",
      "text/plain": [
       "<IPython.core.display.Image object>"
      ]
     },
     "execution_count": 26,
     "metadata": {
      "image/png": {
       "width": 350
      }
     },
     "output_type": "execute_result"
    }
   ],
   "source": [
    "#Import library\n",
    "from IPython.display import Image\n",
    "# Load image from local storage\n",
    "Image(filename = \"img.png\", width = 350)"
   ]
  },
  {
   "cell_type": "markdown",
   "metadata": {},
   "source": [
    "<h3 style=\"line-height: 1.5; color:#262626; letter-spacing: 0.75px; word-spacing: 1px;\">Lets take above example to illustrate the process.</h3>"
   ]
  },
  {
   "cell_type": "code",
   "execution_count": 36,
   "metadata": {},
   "outputs": [],
   "source": [
    "root = Tree(8)\n",
    "root.insert(3)\n",
    "root.insert(10)\n",
    "root.insert(1)\n",
    "root.insert(13)\n",
    "root.insert(6)\n",
    "root.insert(7)\n",
    "root.insert(4)\n",
    "root.insert(14)"
   ]
  },
  {
   "cell_type": "code",
   "execution_count": 37,
   "metadata": {},
   "outputs": [
    {
     "name": "stdout",
     "output_type": "stream",
     "text": [
      "1\n",
      "3\n",
      "4\n",
      "6\n",
      "7\n",
      "8\n",
      "10\n",
      "13\n",
      "14\n",
      "None\n"
     ]
    }
   ],
   "source": [
    "print(root.PrintTree())"
   ]
  },
  {
   "cell_type": "code",
   "execution_count": 38,
   "metadata": {},
   "outputs": [
    {
     "name": "stdout",
     "output_type": "stream",
     "text": [
      "[1, 3, 4, 6, 7, 8, 10, 13, 14]\n"
     ]
    }
   ],
   "source": [
    "print(root.inorderTraversal(root))"
   ]
  },
  {
   "cell_type": "markdown",
   "metadata": {},
   "source": [
    "<h3 style=\"line-height: 1.5; color:#262626; letter-spacing: 0.75px; word-spacing: 1px;\">Here no matter what order the inputs were given the algorithm Arranges in a binary tree order and returns the items starting from the <b style=\"color: green\">Left</b> node, then <b style=\"color: green\">root</b> node and then <b style=\"color: green\">right</b> node.</h3>"
   ]
  },
  {
   "cell_type": "markdown",
   "metadata": {},
   "source": [
    "<h2 style=\" letter-spacing: 1.25px; word-spacing: 1px;\"><i>2. Pre-order Traversal.</i></h2>"
   ]
  },
  {
   "cell_type": "markdown",
   "metadata": {},
   "source": [
    "<h3 style=\"line-height: 1.5; color:#262626; letter-spacing: 0.75px; word-spacing: 1px;\">In this traversal method, the <b style=\"color: green\">root</b> is visited first, then the <b style=\"color: green\">left sub-tree</b> and later the <b style=\"color: green\">right sub-tree</b>. Note that every node may represent a subtree itself.</h3>"
   ]
  },
  {
   "cell_type": "code",
   "execution_count": 40,
   "metadata": {},
   "outputs": [],
   "source": [
    "class Tree:\n",
    "    def __init__(self, data):\n",
    "        self.left = None\n",
    "        self.right = None\n",
    "        self.data = data\n",
    "        \n",
    "    def insert(self, data):\n",
    "        if self.data:\n",
    "            if data < self.data:\n",
    "                if self.left is None:\n",
    "                    self.left = Node(data)\n",
    "                else:\n",
    "                    self.left.insert(data)\n",
    "            elif data > self.data:\n",
    "                if self.right is None:\n",
    "                    self.right = Node(data)\n",
    "                else:\n",
    "                    self.right.insert(data)\n",
    "        else:\n",
    "            self.data = data\n",
    "\n",
    "    def PrintTree(self):\n",
    "        if self.left:\n",
    "            self.left.PrintTree()\n",
    "        print( self.data),\n",
    "        if self.right:\n",
    "            self.right.PrintTree()\n",
    "    \n",
    "    def PreorderTraversal(self, root):\n",
    "        res = []\n",
    "        if root:\n",
    "            res.append(root.data)\n",
    "            res = res + self.PreorderTraversal(root.left)\n",
    "            res = res + self.PreorderTraversal(root.right)\n",
    "        return res"
   ]
  },
  {
   "cell_type": "code",
   "execution_count": 41,
   "metadata": {},
   "outputs": [],
   "source": [
    "root = Tree(8)\n",
    "root.insert(3)\n",
    "root.insert(10)\n",
    "root.insert(1)\n",
    "root.insert(13)\n",
    "root.insert(6)\n",
    "root.insert(7)\n",
    "root.insert(4)\n",
    "root.insert(14)"
   ]
  },
  {
   "cell_type": "code",
   "execution_count": 44,
   "metadata": {},
   "outputs": [
    {
     "name": "stdout",
     "output_type": "stream",
     "text": [
      "[8, 3, 1, 6, 4, 7, 10, 13, 14]\n"
     ]
    }
   ],
   "source": [
    "print(root.PreorderTraversal(root))"
   ]
  },
  {
   "cell_type": "markdown",
   "metadata": {},
   "source": [
    "<h2 style=\" letter-spacing: 1.25px; word-spacing: 1px;\"><i>3. Post-order Traversal.</i></h2>"
   ]
  },
  {
   "cell_type": "markdown",
   "metadata": {},
   "source": [
    "<h3 style=\"line-height: 1.5; color:#262626; letter-spacing: 0.75px; word-spacing: 1px;\">In this traversal method, the <b style=\"color: green\">left sub-tree</b> is visited first, then the <b style=\"color: green\">right sub-tree</b> and later the <b style=\"color: green\">root</b>. Note that every node may represent a subtree itself.</h3>"
   ]
  },
  {
   "cell_type": "code",
   "execution_count": 46,
   "metadata": {},
   "outputs": [],
   "source": [
    "class Tree:\n",
    "    def __init__(self, data):\n",
    "        self.left = None\n",
    "        self.right = None\n",
    "        self.data = data\n",
    "        \n",
    "    def insert(self, data):\n",
    "        if self.data:\n",
    "            if data < self.data:\n",
    "                if self.left is None:\n",
    "                    self.left = Node(data)\n",
    "                else:\n",
    "                    self.left.insert(data)\n",
    "            elif data > self.data:\n",
    "                if self.right is None:\n",
    "                    self.right = Node(data)\n",
    "                else:\n",
    "                    self.right.insert(data)\n",
    "        else:\n",
    "            self.data = data\n",
    "\n",
    "    def PrintTree(self):\n",
    "        if self.left:\n",
    "            self.left.PrintTree()\n",
    "        print( self.data),\n",
    "        if self.right:\n",
    "            self.right.PrintTree()\n",
    "\n",
    "    def PostorderTraversal(self, root):\n",
    "        res = []\n",
    "        if root:\n",
    "            res = self.PostorderTraversal(root.left)\n",
    "            res = res + self.PostorderTraversal(root.right)\n",
    "            res.append(root.data)\n",
    "        return res"
   ]
  },
  {
   "cell_type": "code",
   "execution_count": 47,
   "metadata": {},
   "outputs": [],
   "source": [
    "root = Tree(8)\n",
    "root.insert(3)\n",
    "root.insert(10)\n",
    "root.insert(1)\n",
    "root.insert(13)\n",
    "root.insert(6)\n",
    "root.insert(7)\n",
    "root.insert(4)\n",
    "root.insert(14)"
   ]
  },
  {
   "cell_type": "code",
   "execution_count": 48,
   "metadata": {},
   "outputs": [
    {
     "name": "stdout",
     "output_type": "stream",
     "text": [
      "[1, 4, 7, 6, 3, 14, 13, 10, 8]\n"
     ]
    }
   ],
   "source": [
    "print(root.PostorderTraversal(root))"
   ]
  },
  {
   "cell_type": "markdown",
   "metadata": {},
   "source": [
    "<h2 style=\"text-shadow: 0.5px 0px 1px #4d4d4d; letter-spacing: 1.5px; word-spacing: 1px;\"><b>5. Sorting Algorithms</b></h2>"
   ]
  },
  {
   "cell_type": "markdown",
   "metadata": {},
   "source": [
    "<h3 style=\"line-height: 1.5; color:#262626; letter-spacing: 0.75px; word-spacing: 1px;\">Sorting algorithm specifies the way to <b style=\"color: green\">arrange data</b> in a particular order. Data searching can be optimized to a very high level, if data is stored in a sorted manner.<br>Types of Sorting Algorithms:-<br>1. <b style=\"color: green\">Bubble</b> Sort.<br>2. <b style=\"color: green\">Merge</b> Sort.<br>3. <b style=\"color: green\">Insertion</b> Sort.<br>4. <b style=\"color: green\">Quick</b> Sort.</h3>"
   ]
  },
  {
   "cell_type": "markdown",
   "metadata": {},
   "source": [
    "<h2 style=\" letter-spacing: 1.25px; word-spacing: 1px;\"><i>1. Bubble Sort.</i></h2>"
   ]
  },
  {
   "cell_type": "markdown",
   "metadata": {},
   "source": [
    "<h3 style=\"line-height: 1.5; color:#262626; letter-spacing: 0.75px; word-spacing: 1px;\">It is a comparison-based algorithm in which each pair of adjacent elements is <b style=\"color: green\">compared</b> and the elements are <b style=\"color: green\">swapped</b> if they are not in order.</h3>"
   ]
  },
  {
   "cell_type": "code",
   "execution_count": 3,
   "metadata": {},
   "outputs": [],
   "source": [
    "def BubbleSort(ls):\n",
    "    n = len(ls)\n",
    "    sort = True\n",
    "    while sort:\n",
    "        sort = False\n",
    "        for i in range(n-1):\n",
    "            if ls[i] > ls[i+1]:\n",
    "                ls[i], ls[i+1] = ls[i+1], ls[i]\n",
    "                sort = True\n",
    "    return ls            "
   ]
  },
  {
   "cell_type": "code",
   "execution_count": 4,
   "metadata": {},
   "outputs": [
    {
     "data": {
      "text/plain": [
       "[1, 2, 4, 8, 99]"
      ]
     },
     "execution_count": 4,
     "metadata": {},
     "output_type": "execute_result"
    }
   ],
   "source": [
    "a = [4, 1, 99, 2, 8]\n",
    "\n",
    "BubbleSort(a)"
   ]
  },
  {
   "cell_type": "markdown",
   "metadata": {},
   "source": [
    "<h2 style=\" letter-spacing: 1.25px; word-spacing: 1px;\"><i>2. Merge Sort.</i></h2>"
   ]
  },
  {
   "cell_type": "markdown",
   "metadata": {},
   "source": [
    "<h3 style=\"line-height: 1.5; color:#262626; letter-spacing: 0.75px; word-spacing: 1px;\">Merge sort first <b style=\"color: green\">divides</b> the array into <b style=\"color: green\">equal halves</b> and then <b style=\"color: green\">combines</b> them in a <b style=\"color: green\">sorted</b> manner.</h3>"
   ]
  },
  {
   "cell_type": "code",
   "execution_count": 6,
   "metadata": {},
   "outputs": [],
   "source": [
    "def MergeSort(ls):\n",
    "    n = len(ls)\n",
    "    if n < 2:\n",
    "        return ls\n",
    "    mid = n//2\n",
    "    \n",
    "    Left = MergeSort(ls[:mid])\n",
    "    Right = MergeSort(ls[mid:])\n",
    "    return Merge(Left, Right)\n",
    "\n",
    "def Merge(Left, Right):\n",
    "    if len(Left) == 0:\n",
    "        return Left\n",
    "    if len(Right) == 0:\n",
    "        return Right\n",
    "    \n",
    "    result = []\n",
    "    indL = indR = 0\n",
    "    \n",
    "    while len(result) < len(Left) + len(Right):\n",
    "        if Left[indL] <= Right[indR]:\n",
    "            result.append(Left[indL])\n",
    "            indL += 1\n",
    "        else:\n",
    "            result.append(Right[indR])\n",
    "            indR += 1\n",
    "        if indL == len(Left):\n",
    "            result += Right[indR:]\n",
    "            break\n",
    "        if indR == len(Right):\n",
    "            result += Left[indL:]\n",
    "            break\n",
    "            \n",
    "    return result"
   ]
  },
  {
   "cell_type": "code",
   "execution_count": 8,
   "metadata": {},
   "outputs": [
    {
     "name": "stdout",
     "output_type": "stream",
     "text": [
      "[1, 2, 3, 7, 9, 12, 55, 88, 91, 101, 121, 205, 302, 454, 500, 609, 785, 906, 5005]\n"
     ]
    }
   ],
   "source": [
    "b = [7, 2, 9, 1, 55, 12, 88, 3, 91, 121, 205, 5005, 500, 101, 785, 302, 609, 906, 454]\n",
    "\n",
    "print(MergeSort(b))"
   ]
  },
  {
   "cell_type": "markdown",
   "metadata": {},
   "source": [
    "<h2 style=\" letter-spacing: 1.25px; word-spacing: 1px;\"><i>3. Insertion Sort.</i></h2>"
   ]
  },
  {
   "cell_type": "markdown",
   "metadata": {},
   "source": [
    "<h3 style=\"line-height: 1.5; color:#262626; letter-spacing: 0.75px; word-spacing: 1px;\">Insertion Sort is similar to that of <b style=\"color: green\">Bubble Sort</b>, but <b style=\"color: green\">each</b> element is compared with <b style=\"color: green\">all</b> element in the List and it's <b style=\"color: green\">suitable place</b> is determined.</h3>"
   ]
  },
  {
   "cell_type": "code",
   "execution_count": 9,
   "metadata": {},
   "outputs": [],
   "source": [
    "def InsertionSort(ls):\n",
    "    n = len(ls)\n",
    "    for i in range(1, n):\n",
    "        item = ls[i]\n",
    "        \n",
    "        j = i - 1\n",
    "        while j >= 0 and ls[j] > item:\n",
    "            ls[j+1] = ls[j]\n",
    "            j -= 1\n",
    "        \n",
    "        ls[j+1] = item\n",
    "    return ls"
   ]
  },
  {
   "cell_type": "code",
   "execution_count": 10,
   "metadata": {},
   "outputs": [
    {
     "data": {
      "text/plain": [
       "[0, 1, 3, 5, 6, 15, 23, 77]"
      ]
     },
     "execution_count": 10,
     "metadata": {},
     "output_type": "execute_result"
    }
   ],
   "source": [
    "c = [3, 5, 23, 1, 6, 0, 77, 15]\n",
    "\n",
    "InsertionSort(c)"
   ]
  },
  {
   "cell_type": "markdown",
   "metadata": {},
   "source": [
    "<h2 style=\" letter-spacing: 1.25px; word-spacing: 1px;\"><i>4. Quick Sort.</i></h2>"
   ]
  },
  {
   "cell_type": "markdown",
   "metadata": {},
   "source": [
    "<h3 style=\"line-height: 1.5; color:#262626; letter-spacing: 0.75px; word-spacing: 1px;\">Quicksort algorithm applies the <b style=\"color: green\">divide-and-conquer</b> principle same as that of <b style=\"color: green\">Merge</b> sort to divide the input array into <b style=\"color: green\">two lists</b>, the first with <b style=\"color: green\">small</b> items and the second with <b style=\"color: green\">large</b> items. The algorithm then sorts both lists recursively until the resultant list is <b style=\"color: green\">completely sorted</b>.</h3>"
   ]
  },
  {
   "cell_type": "code",
   "execution_count": 11,
   "metadata": {},
   "outputs": [],
   "source": [
    "from random import randint\n",
    "\n",
    "def QuickSort(ls):\n",
    "    n = len(ls)\n",
    "    \n",
    "    if n < 2:\n",
    "        return ls\n",
    "    \n",
    "    low, same, high = [], [], []\n",
    "    pivot = ls[randint(0, n - 1)]\n",
    "    \n",
    "    for i in ls:\n",
    "        if i < pivot:\n",
    "            low.append(i)\n",
    "        if i == pivot:\n",
    "            same.append(i)\n",
    "        if i > pivot:\n",
    "            high.append(i)\n",
    "            \n",
    "    \n",
    "    return QuickSort(low) + same + QuickSort(high)"
   ]
  },
  {
   "cell_type": "code",
   "execution_count": 12,
   "metadata": {},
   "outputs": [
    {
     "data": {
      "text/plain": [
       "[1, 2, 4, 13, 14, 17, 21, 30, 44, 58, 78, 99]"
      ]
     },
     "execution_count": 12,
     "metadata": {},
     "output_type": "execute_result"
    }
   ],
   "source": [
    "d = [2, 1, 44, 30, 21, 17, 58, 78, 13, 4, 99, 14]\n",
    "\n",
    "QuickSort(d)"
   ]
  },
  {
   "cell_type": "markdown",
   "metadata": {},
   "source": [
    "<h2 style=\"text-shadow: 0.5px 0px 1px #4d4d4d; letter-spacing: 1.5px; word-spacing: 1px;\"><b>6. Searching Algorithms</b></h2>"
   ]
  },
  {
   "cell_type": "markdown",
   "metadata": {},
   "source": [
    "<h3 style=\"line-height: 1.5; color:#262626; letter-spacing: 0.75px; word-spacing: 1px;\">Searching is a very basic necessity when you store data in different data structures.There are many <b style=\"color: green\">different algorithms</b> available to utilize when searching. <b style=\"color: green\">Binary search</b> mentioned above is also type of a searching algorithm. Some of the Alogrithms are:-<br>1. <b style=\"color: green\">Linear</b> Search.<br>2. <b style=\"color: green\">Interpolation</b> Search.</h3>"
   ]
  },
  {
   "cell_type": "markdown",
   "metadata": {},
   "source": [
    "<h2 style=\" letter-spacing: 1.25px; word-spacing: 1px;\"><i>1. Linear Search.</i></h2>"
   ]
  },
  {
   "cell_type": "markdown",
   "metadata": {},
   "source": [
    "<h3 style=\"line-height: 1.5; color:#262626; letter-spacing: 0.75px; word-spacing: 1px;\">Linear Search is the simplest appraoch is to go across <b style=\"color: green\">every element</b> in the data structure and match it with the <b style=\"color: green\">value</b> you are searching for.</h3>"
   ]
  },
  {
   "cell_type": "code",
   "execution_count": 1,
   "metadata": {},
   "outputs": [],
   "source": [
    "def LinearSearch(ls, el):\n",
    "    for i in ls:\n",
    "        if i == el:\n",
    "            return True\n",
    "    return False"
   ]
  },
  {
   "cell_type": "code",
   "execution_count": 3,
   "metadata": {},
   "outputs": [
    {
     "data": {
      "text/plain": [
       "False"
      ]
     },
     "execution_count": 3,
     "metadata": {},
     "output_type": "execute_result"
    }
   ],
   "source": [
    "a = [1, 2, 3, 4, 5, 6]\n",
    "\n",
    "LinearSearch(a, 9)"
   ]
  },
  {
   "cell_type": "code",
   "execution_count": 4,
   "metadata": {},
   "outputs": [
    {
     "data": {
      "text/plain": [
       "True"
      ]
     },
     "execution_count": 4,
     "metadata": {},
     "output_type": "execute_result"
    }
   ],
   "source": [
    "LinearSearch(a, 4)"
   ]
  },
  {
   "cell_type": "markdown",
   "metadata": {},
   "source": [
    "<h2 style=\" letter-spacing: 1.25px; word-spacing: 1px;\"><i>2. Interpolation Search.</i></h2>"
   ]
  },
  {
   "cell_type": "markdown",
   "metadata": {},
   "source": [
    "<h3 style=\"line-height: 1.5; color:#262626; letter-spacing: 0.75px; word-spacing: 1px;\">This search algorithm works on the <b style=\"color: green\">probing position</b> of the required <b style=\"color: green\">value</b>. For this algorithm to work properly, the data collection should be in a <b style=\"color: green\">sorted</b> form and <b style=\"color: green\">equally distributed</b>. Initially, the probe position is the position of the <b style=\"color: green\">middle</b> most item of the collection.If a <b style=\"color: green\">match</b> occurs, then the index of the item is <b style=\"color: green\">returned</b>. If the middle item is <b style=\"color: green\">greater</b> than the item, then the probe position is again <b style=\"color: green\">calculated</b> in the sub-array to the <b style=\"color: green\">right</b> of the middle item. Otherwise, the item is searched in the subarray to the <b style=\"color: green\">left</b> of the <b style=\"color: green\">middle</b> item. This process continues on the sub-array as well until the size of subarray reduces to zero.</h3>"
   ]
  },
  {
   "cell_type": "code",
   "execution_count": 12,
   "metadata": {},
   "outputs": [],
   "source": [
    "def InterpolationSearch(ls, el):\n",
    "    low = 0\n",
    "    high = len(ls) - 1\n",
    "    while el >= ls[low] and el <= ls[high] and low <= high:\n",
    "        index = low + int(((float(high - low) / (ls[high] - ls[low])) * (el - ls[low])))\n",
    "        if ls[index] == el:\n",
    "            return index\n",
    "        if ls[index] < el:\n",
    "            low = index + 1\n",
    "        else:\n",
    "            low = index - 1\n",
    "    return False"
   ]
  },
  {
   "cell_type": "code",
   "execution_count": 13,
   "metadata": {},
   "outputs": [
    {
     "data": {
      "text/plain": [
       "6"
      ]
     },
     "execution_count": 13,
     "metadata": {},
     "output_type": "execute_result"
    }
   ],
   "source": [
    "b = [1, 2, 3, 4, 5, 6, 7, 8, 9, 10]\n",
    "\n",
    "InterpolationSearch(b, 7)"
   ]
  },
  {
   "cell_type": "code",
   "execution_count": 14,
   "metadata": {},
   "outputs": [
    {
     "data": {
      "text/plain": [
       "False"
      ]
     },
     "execution_count": 14,
     "metadata": {},
     "output_type": "execute_result"
    }
   ],
   "source": [
    "InterpolationSearch(b, 12)"
   ]
  },
  {
   "cell_type": "markdown",
   "metadata": {},
   "source": [
    "<h2 style=\"text-shadow: 0.5px 0px 1px #4d4d4d; letter-spacing: 1.5px; word-spacing: 1px;\"><b>References:</b></h2>"
   ]
  },
  {
   "cell_type": "markdown",
   "metadata": {},
   "source": [
    "<h3 style=\"line-height: 2; color:#262626; letter-spacing: 1px; word-spacing: 1px;\"><a href=\"https://www.springer.com/gp/book/9783319130712\" target=\"_blank\" style=\" text-decoration: none; color: green\">1. Data Structures and Algorithms with Python by Kent D. Lee, Steve Hubbard.</a><br><a href=\"https://www.tutorialspoint.com/python_data_structure/index.htm\" target=\"_blank\" style=\" text-decoration: none; color: green\">2. Python - Data Structure.</a><br><a href=\"https://www.bigocheatsheet.com/\" target=\"_blank\" style=\" text-decoration: none; color: green\">3. Big-O Complexity Chart.</a><br><a href=\"https://www.educative.io/courses/ds-and-algorithms-in-python/YMBEM0VZN2p\" target=\"_blank\" style=\" text-decoration: none; color: green\">4. Stacks in Python.</a><br><a href=\"https://runestone.academy/runestone/books/published/pythonds/BasicDS/ImplementingaQueueinPython.html\" target=\"_blank\" style=\" text-decoration: none; color: green\">5. Queues in Python.</a><br><a href=\"https://www.youtube.com/playlist?list=PL5tcWHG-UPH112e7AN7C-fwDVPVrt0wpV\" target=\"_blank\" style=\" text-decoration: none; color: green\">6. Data Structures in Python.</a><br><a href=\"https://www.youtube.com/playlist?list=PLeo1K3hjS3uu_n_a__MI_KktGTLYopZ12\" target=\"_blank\" style=\" text-decoration: none; color: green\">6. Data Structures Tutorials in Python.</a><br><a href=\"https://www.programiz.com/python-programming/recursion\" target=\"_blank\" style=\" text-decoration: none; color: green\">7. Python Recursion.</a><br><a href=\"https://realpython.com/sorting-algorithms-python/\" target=\"_blank\" style=\" text-decoration: none; color: green\">8. Sorting Algorithms in Python.</a><br><a href=\"https://stackabuse.com/sorting-algorithms-in-python/\" target=\"_blank\" style=\" text-decoration: none; color: green\">9. Sorting Algorithms in Python.</a><br><a href=\"https://www.w3resource.com/python-exercises/data-structures-and-algorithms/python-search-and-sorting-exercise-1.php\" target=\"_blank\" style=\" text-decoration: none; color: green\">10. Binary search in Python.</a><br><a href=\"https://www.geeksforgeeks.org/binary-search/\" target=\"_blank\" style=\" text-decoration: none; color: green\">10. Binary search.</a><br><a href=\"https://stackabuse.com/search-algorithms-in-python/\" target=\"_blank\" style=\" text-decoration: none; color: green\">11. Search Algorithms in Python.</a><br></h3>"
   ]
  }
 ],
 "metadata": {
  "kernelspec": {
   "display_name": "Python 3",
   "language": "python",
   "name": "python3"
  },
  "language_info": {
   "codemirror_mode": {
    "name": "ipython",
    "version": 3
   },
   "file_extension": ".py",
   "mimetype": "text/x-python",
   "name": "python",
   "nbconvert_exporter": "python",
   "pygments_lexer": "ipython3",
   "version": "3.8.5"
  }
 },
 "nbformat": 4,
 "nbformat_minor": 2
}
